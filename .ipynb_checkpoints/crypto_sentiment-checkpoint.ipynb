{
 "cells": [
  {
   "cell_type": "markdown",
   "metadata": {},
   "source": [
    "# News Headlines Sentiment\n",
    "\n",
    "Use the news api to pull the latest news articles for bitcoin and ethereum and create a DataFrame of sentiment scores for each coin. \n",
    "\n",
    "Use descriptive statistics to answer the following questions:\n",
    "1. Which coin had the highest mean positive score?\n",
    "2. Which coin had the highest negative score?\n",
    "3. Which coin had the highest positive score?"
   ]
  },
  {
   "cell_type": "code",
   "execution_count": 37,
   "metadata": {},
   "outputs": [],
   "source": [
    "# Initial imports\n",
    "import os\n",
    "import pandas as pd\n",
    "from dotenv import load_dotenv\n",
    "from nltk.sentiment.vader import SentimentIntensityAnalyzer\n",
    "\n",
    "from newsapi.newsapi_client import NewsApiClient\n",
    "\n",
    "analyzer = SentimentIntensityAnalyzer()\n",
    "\n",
    "\n",
    "%matplotlib inline"
   ]
  },
  {
   "cell_type": "code",
   "execution_count": 36,
   "metadata": {},
   "outputs": [],
   "source": [
    "# Read your api key environment variable\n",
    "load_dotenv()\n",
    "\n",
    "news_api_key = os.getenv(\"news_api_key\")"
   ]
  },
  {
   "cell_type": "code",
   "execution_count": 47,
   "metadata": {},
   "outputs": [
    {
     "data": {
      "text/plain": [
       "{'status': 'ok',\n",
       " 'totalResults': 4896,\n",
       " 'articles': [{'source': {'id': None, 'name': 'Gizmodo.com'},\n",
       "   'author': 'John Biggs',\n",
       "   'title': 'Crypto Traders Cut Out the Middleman, Simply Rob Victim',\n",
       "   'description': 'Two alleged crypto traders in Singapore apparently came up with a fool-proof plan: rather than convert a customer’s 365,000 Singapore dollars to bitcoin, they would simply rob the victim when he came in to do the trade.Read more...',\n",
       "   'url': 'https://gizmodo.com/crypto-traders-cut-out-the-middleman-simply-rob-victim-1845011301',\n",
       "   'urlToImage': 'https://i.kinja-img.com/gawker-media/image/upload/c_fill,f_auto,fl_progressive,g_center,h_675,pg_1,q_80,w_1200/li0fkkejdmaugm8v1fkw.jpg',\n",
       "   'publishedAt': '2020-09-10T14:28:00Z',\n",
       "   'content': 'Two alleged crypto traders in Singapore apparently came up with a fool-proof plan: rather than convert a customers 365,000 Singapore dollars to bitcoin, they would simply rob the victim when he came … [+1735 chars]'},\n",
       "  {'source': {'id': 'reuters', 'name': 'Reuters'},\n",
       "   'author': 'Alexis Akwagyiram, Tom Wilson',\n",
       "   'title': 'INSIGHT-How bitcoin met the real world in Africa - Reuters Africa',\n",
       "   'description': 'INSIGHT-How bitcoin met the real world in Africa\\xa0\\xa0Reuters Africa',\n",
       "   'url': 'https://af.reuters.com/article/crypto-currencies-africa-idAFL4N2FR31Q',\n",
       "   'urlToImage': 'https://s1.reutersmedia.net/resources_v2/images/rcom-default.png?w=800',\n",
       "   'publishedAt': '2020-09-08T06:02:00Z',\n",
       "   'content': 'By Alexis Akwagyiram, Tom Wilson\\r\\n* Monthly crypto transfers to and from Africa rise 55% in a year\\r\\n* Much of the activity in Nigeria, South Africa and Kenya\\r\\n* Driven by small businesses and migrant… [+7730 chars]'},\n",
       "  {'source': {'id': 'engadget', 'name': 'Engadget'},\n",
       "   'author': 'Mariella Moon',\n",
       "   'title': 'FBI and CISA warn against surge in voice phishing campaigns',\n",
       "   'description': 'Authorities saw an uptick in voice phishing (or “vishing”) campaigns after the pandemic forced companies to implement work-from-home arrangements. That’s what the Federal Bureau of Investigation (FBI) and the Cybersecurity and Infrastructure Security Agency (…',\n",
       "   'url': 'https://www.engadget.com/fbi-cisa-issue-voice-phishing-campaign-advisory-121936127.html',\n",
       "   'urlToImage': 'https://o.aolcdn.com/images/dims?resize=1200%2C630&crop=1200%2C630%2C0%2C0&quality=95&image_uri=https%3A%2F%2Fs.yimg.com%2Fos%2Fcreatr-images%2F2019-08%2F963d0510-bf49-11e9-beff-3f5e5758e121&client=amp-blogside-v2&signature=79d749ba8d928e91cc070a6e5de85e6011dad5c2',\n",
       "   'publishedAt': '2020-08-23T12:19:36Z',\n",
       "   'content': '“The COVID-19 pandemic has resulted in a mass shift to working from home, resulting in increased use of corporate VPN and elimination of in-person verification, which can partially explain the succes… [+3548 chars]'},\n",
       "  {'source': {'id': 'reuters', 'name': 'Reuters'},\n",
       "   'author': 'Alexis Akwagyiram, Tom Wilson',\n",
       "   'title': 'How bitcoin met the real world in Africa - Reuters India',\n",
       "   'description': 'Four months ago, Abolaji Odunjo made a fundamental change to his business selling mobile phones in a bustling street market in Lagos: He started paying his suppliers in bitcoin.',\n",
       "   'url': 'https://in.reuters.com/article/crypto-currencies-africa-insight-idINKBN25Z0TZ',\n",
       "   'urlToImage': 'https://static.reuters.com/resources/r/?m=02&d=20200908&t=2&i=1532554925&r=LYNXMPEG870GM&w=800',\n",
       "   'publishedAt': '2020-09-08T06:34:00Z',\n",
       "   'content': 'LAGOS/LONDON (Reuters) - Four months ago, Abolaji Odunjo made a fundamental change to his business selling mobile phones in a bustling street market in Lagos: He started paying his suppliers in bitco… [+7646 chars]'},\n",
       "  {'source': {'id': 'reuters', 'name': 'Reuters'},\n",
       "   'author': 'Alexis Akwagyiram',\n",
       "   'title': 'How bitcoin met the real world in Africa - Reuters',\n",
       "   'description': 'Four months ago, Abolaji Odunjo made a fundamental change to his business selling mobile phones in a bustling street market in Lagos: He started paying his suppliers in bitcoin.',\n",
       "   'url': 'https://www.reuters.com/article/us-crypto-currencies-africa-insight-idUSKBN25Z0Q8',\n",
       "   'urlToImage': 'https://s4.reutersmedia.net/resources/r/?m=02&d=20200908&t=2&i=1532552292&w=1200&r=LYNXMPEG870ER',\n",
       "   'publishedAt': '2020-09-08T06:14:00Z',\n",
       "   'content': 'LAGOS/LONDON (Reuters) - Four months ago, Abolaji Odunjo made a fundamental change to his business selling mobile phones in a bustling street market in Lagos: He started paying his suppliers in bitco… [+7537 chars]'},\n",
       "  {'source': {'id': 'the-next-web', 'name': 'The Next Web'},\n",
       "   'author': 'Satoshi Nakaboto',\n",
       "   'title': 'Satoshi Nakaboto: ‘IMF says crypto may change how we buy, sell, save, and invest’',\n",
       "   'description': 'Our robot colleague Satoshi Nakaboto writes about Bitcoin every fucking day. Welcome to another edition of Bitcoin Today, where I, Satoshi Nakaboto, tell you what’s been going on with Bitcoin in the past 24 hours. As Faraday used to say: Time is money! Bitcoi…',\n",
       "   'url': 'https://thenextweb.com/hardfork/2020/08/26/satoshi-nakaboto-imf-says-crypto-may-change-how-we-buy-sell-save-and-invest/',\n",
       "   'urlToImage': 'https://img-cdn.tnwcdn.com/image/hardfork?filter_last=1&fit=1280%2C640&url=https%3A%2F%2Fcdn0.tnwcdn.com%2Fwp-content%2Fblogs.dir%2F1%2Ffiles%2F2019%2F08%2Fbitcoin_today-header_bitcoin_today.jpg&signature=30221b6a68049cc6bc3b58f3ddb38864',\n",
       "   'publishedAt': '2020-08-26T09:41:43Z',\n",
       "   'content': 'Our robot colleague Satoshi Nakaboto writes about Bitcoin every fucking day.\\r\\nWelcome to another edition of Bitcoin Today, where I, Satoshi Nakaboto, tell you whats been going on with Bitcoin in the … [+2802 chars]'},\n",
       "  {'source': {'id': 'the-next-web', 'name': 'The Next Web'},\n",
       "   'author': 'Satoshi Nakaboto',\n",
       "   'title': 'Satoshi Nakaboto: ‘European app claims flight delay compensation for you in BTC’',\n",
       "   'description': 'Our robot colleague Satoshi Nakaboto writes about Bitcoin every fucking day. Welcome to another edition of Bitcoin Today, where I, Satoshi Nakaboto, tell you what’s been going on with Bitcoin in the past 24 hours. As Sloterdijk used to say: Money makes the wo…',\n",
       "   'url': 'https://thenextweb.com/hardfork/2020/08/20/satoshi-nakaboto-european-app-claims-flight-delay-compensation-for-you-in-btc/',\n",
       "   'urlToImage': 'https://img-cdn.tnwcdn.com/image/hardfork?filter_last=1&fit=1280%2C640&url=https%3A%2F%2Fcdn0.tnwcdn.com%2Fwp-content%2Fblogs.dir%2F1%2Ffiles%2F2019%2F08%2Fbitcoin_today-header_bitcoin_today.jpg&signature=30221b6a68049cc6bc3b58f3ddb38864',\n",
       "   'publishedAt': '2020-08-20T08:55:11Z',\n",
       "   'content': 'Our robot colleague Satoshi Nakaboto writes about Bitcoin BTC every fucking day.\\r\\nWelcome to another edition of Bitcoin Today, where I, Satoshi Nakaboto, tell you whats been going on with Bitcoin in … [+2968 chars]'},\n",
       "  {'source': {'id': 'the-next-web', 'name': 'The Next Web'},\n",
       "   'author': 'Satoshi Nakaboto',\n",
       "   'title': 'Satoshi Nakaboto: ‘More than 823K addresses now hold more than 1 BTC’',\n",
       "   'description': 'Our robot colleague Satoshi Nakaboto writes about Bitcoin every fucking day. Welcome to another edition of Bitcoin Today, where I, Satoshi Nakaboto, tell you what’s been going on with Bitcoin in the past 24 hours. As Sloterdijk used to say: If you love yourse…',\n",
       "   'url': 'https://thenextweb.com/hardfork/2020/09/10/satoshi-nakaboto-more-than-823k-addresses-now-hold-more-than-1-btc/',\n",
       "   'urlToImage': 'https://img-cdn.tnwcdn.com/image/hardfork?filter_last=1&fit=1280%2C640&url=https%3A%2F%2Fcdn0.tnwcdn.com%2Fwp-content%2Fblogs.dir%2F1%2Ffiles%2F2019%2F08%2Fbitcoin_today-header_bitcoin_today.jpg&signature=30221b6a68049cc6bc3b58f3ddb38864',\n",
       "   'publishedAt': '2020-09-10T09:00:54Z',\n",
       "   'content': 'Our robot colleague Satoshi Nakaboto writes about Bitcoin BTC every fucking day.\\r\\nWelcome to another edition of Bitcoin Today, where I, Satoshi Nakaboto, tell you whats been going on with Bitcoin in … [+2989 chars]'},\n",
       "  {'source': {'id': 'the-next-web', 'name': 'The Next Web'},\n",
       "   'author': 'Satoshi Nakaboto',\n",
       "   'title': 'Satoshi Nakaboto: ‘Kraken just got a US banking license’',\n",
       "   'description': 'Our robot colleague Satoshi Nakaboto writes about Bitcoin every fucking day. Welcome to another edition of Bitcoin Today, where I, Satoshi Nakaboto, tell you what’s been going on with Bitcoin in the past 24 hours. As Bentham used to say: Shop ’till you drop! …',\n",
       "   'url': 'https://thenextweb.com/hardfork/2020/09/17/satoshi-nakaboto-kraken-just-got-a-us-banking-license/',\n",
       "   'urlToImage': 'https://img-cdn.tnwcdn.com/image/hardfork?filter_last=1&fit=1280%2C640&url=https%3A%2F%2Fcdn0.tnwcdn.com%2Fwp-content%2Fblogs.dir%2F1%2Ffiles%2F2019%2F08%2Fbitcoin_today-header_bitcoin_today.jpg&signature=30221b6a68049cc6bc3b58f3ddb38864',\n",
       "   'publishedAt': '2020-09-17T09:22:01Z',\n",
       "   'content': 'Our robot colleague Satoshi Nakaboto writes about Bitcoin every fucking day.\\r\\nWelcome to another edition of Bitcoin Today, where I, Satoshi Nakaboto, tell you whats been going on with Bitcoin in the … [+2756 chars]'},\n",
       "  {'source': {'id': 'the-next-web', 'name': 'The Next Web'},\n",
       "   'author': 'Satoshi Nakaboto',\n",
       "   'title': 'Satoshi Nakaboto: ‘Kazakhstan to pump $700M into crypto mining’',\n",
       "   'description': 'Our robot colleague Satoshi Nakaboto writes about Bitcoin every fucking day. Welcome to another edition of Bitcoin Today, where I, Satoshi Nakaboto, tell you what’s been going on with Bitcoin in the past 24 hours. As Sloterdijk used to say: Yolo! Bitcoin pric…',\n",
       "   'url': 'https://thenextweb.com/hardfork/2020/09/07/satoshi-nakaboto-kazakhstan-to-pump-700m-into-crypto-mining/',\n",
       "   'urlToImage': 'https://img-cdn.tnwcdn.com/image/hardfork?filter_last=1&fit=1280%2C640&url=https%3A%2F%2Fcdn0.tnwcdn.com%2Fwp-content%2Fblogs.dir%2F1%2Ffiles%2F2019%2F08%2Fbitcoin_today-header_bitcoin_today.jpg&signature=30221b6a68049cc6bc3b58f3ddb38864',\n",
       "   'publishedAt': '2020-09-07T08:39:09Z',\n",
       "   'content': 'Our robot colleague Satoshi Nakaboto writes about Bitcoin every fucking day.\\r\\nWelcome to another edition of Bitcoin Today, where I, Satoshi Nakaboto, tell you whats been going on with Bitcoin in the … [+2836 chars]'},\n",
       "  {'source': {'id': 'techcrunch', 'name': 'TechCrunch'},\n",
       "   'author': 'Romain Dillet',\n",
       "   'title': 'Cryptocurrency exchange FTX acquires portfolio tracker Blockfolio',\n",
       "   'description': 'FTX, a cryptocurrency exchange that offers derivatives, options and other sophisticated products, is acquiring a popular portfolio tracking app, Blockfolio. FTX is spending $150 million for the acquisition. But take that price with a grain of salt as it’s a c…',\n",
       "   'url': 'http://techcrunch.com/2020/08/25/cryptocurrency-exchange-ftx-acquires-portfolio-tracker-blockfolio/',\n",
       "   'urlToImage': 'https://techcrunch.com/wp-content/uploads/2019/10/bitcoin-andre-francois-mckenzie-iGYiBhdNTpE-unsplash.jpg?w=599',\n",
       "   'publishedAt': '2020-08-26T00:00:57Z',\n",
       "   'content': 'FTX, a cryptocurrency exchange that offers derivatives, options and other sophisticated products, is acquiring a popular portfolio tracking app, Blockfolio.\\r\\nFTX is spending $150 million for the acqu… [+1325 chars]'},\n",
       "  {'source': {'id': 'the-next-web', 'name': 'The Next Web'},\n",
       "   'author': 'Satoshi Nakaboto',\n",
       "   'title': 'Satoshi Nakaboto: ‘Bitcoin hovering above $10,000 for second-longest time ever’',\n",
       "   'description': 'Our robot colleague Satoshi Nakaboto writes about Bitcoin every fucking day. Welcome to another edition of Bitcoin Today, where I, Satoshi Nakaboto, tell you what’s been going on with Bitcoin in the past 24 hours. As Albert Einstein used to say: Fight the pow…',\n",
       "   'url': 'https://thenextweb.com/hardfork/2020/08/24/satoshi-nakaboto-bitcoin-hovering-above-10000-for-second-longest-time-ever/',\n",
       "   'urlToImage': 'https://img-cdn.tnwcdn.com/image/hardfork?filter_last=1&fit=1280%2C640&url=https%3A%2F%2Fcdn0.tnwcdn.com%2Fwp-content%2Fblogs.dir%2F1%2Ffiles%2F2019%2F08%2Fbitcoin_today-header_bitcoin_today.jpg&signature=30221b6a68049cc6bc3b58f3ddb38864',\n",
       "   'publishedAt': '2020-08-24T08:57:05Z',\n",
       "   'content': 'Our robot colleague Satoshi Nakaboto writes about Bitcoin BTC every fucking day.\\r\\nWelcome to another edition of Bitcoin Today, where I, Satoshi Nakaboto, tell you whats been going on with Bitcoin in … [+2632 chars]'},\n",
       "  {'source': {'id': 'the-next-web', 'name': 'The Next Web'},\n",
       "   'author': 'Satoshi Nakaboto',\n",
       "   'title': 'Satoshi Nakaboto: ‘Bitcoin ends day above $12K for first time in a year’',\n",
       "   'description': 'Our robot colleague Satoshi Nakaboto writes about Bitcoin every fucking day. Welcome to another edition of Bitcoin Today, where I, Satoshi Nakaboto, tell you what’s been going on with Bitcoin in the past 24 hours. As Hegel used to say: Yippee! Bitcoin price W…',\n",
       "   'url': 'https://thenextweb.com/hardfork/2020/08/18/satoshi-nakaboto-bitcoin-ends-day-above-12k-for-first-time-in-a-year/',\n",
       "   'urlToImage': 'https://img-cdn.tnwcdn.com/image/hardfork?filter_last=1&fit=1280%2C640&url=https%3A%2F%2Fcdn0.tnwcdn.com%2Fwp-content%2Fblogs.dir%2F1%2Ffiles%2F2019%2F08%2Fbitcoin_today-header_bitcoin_today.jpg&signature=30221b6a68049cc6bc3b58f3ddb38864',\n",
       "   'publishedAt': '2020-08-18T08:55:11Z',\n",
       "   'content': 'Our robot colleague Satoshi Nakaboto writes about Bitcoin BTC every fucking day.\\r\\nWelcome to another edition of Bitcoin Today, where I, Satoshi Nakaboto, tell you whats been going on with Bitcoin in … [+2886 chars]'},\n",
       "  {'source': {'id': 'the-next-web', 'name': 'The Next Web'},\n",
       "   'author': 'Satoshi Nakaboto',\n",
       "   'title': 'Satoshi Nakaboto: ‘Fidelity launches Bitcoin index fund for wealthy investors’',\n",
       "   'description': 'Our robot colleague Satoshi Nakaboto writes about Bitcoin every fucking day. Welcome to another edition of Bitcoin Today, where I, Satoshi Nakaboto, tell you what’s been going on with Bitcoin in the past 24 hours. As Faraday used to say: Time is money! Bitcoi…',\n",
       "   'url': 'https://thenextweb.com/hardfork/2020/08/27/satoshi-nakaboto-fidelity-launches-bitcoin-index-fund-for-wealthy-investors/',\n",
       "   'urlToImage': 'https://img-cdn.tnwcdn.com/image/hardfork?filter_last=1&fit=1280%2C640&url=https%3A%2F%2Fcdn0.tnwcdn.com%2Fwp-content%2Fblogs.dir%2F1%2Ffiles%2F2019%2F08%2Fbitcoin_today-header_bitcoin_today.jpg&signature=30221b6a68049cc6bc3b58f3ddb38864',\n",
       "   'publishedAt': '2020-08-27T10:32:55Z',\n",
       "   'content': 'Our robot colleague Satoshi Nakaboto writes about Bitcoin BTC every fucking day.\\r\\nWelcome to another edition of Bitcoin Today, where I, Satoshi Nakaboto, tell you whats been going on with Bitcoin in … [+2786 chars]'},\n",
       "  {'source': {'id': 'the-next-web', 'name': 'The Next Web'},\n",
       "   'author': 'Satoshi Nakaboto',\n",
       "   'title': 'Satoshi Nakaboto: ‘Bitcoin sees highest trading volume in 118 days’',\n",
       "   'description': 'Our robot colleague Satoshi Nakaboto writes about Bitcoin every fucking day. Welcome to another edition of Bitcoin Today, where I, Satoshi Nakaboto, tell you what’s been going on with Bitcoin in the past 24 hours. As Hegel used to say: Do what you love and yo…',\n",
       "   'url': 'https://thenextweb.com/hardfork/2020/09/11/satoshi-nakaboto-bitcoin-sees-highest-trading-volume-in-118-days/',\n",
       "   'urlToImage': 'https://img-cdn.tnwcdn.com/image/hardfork?filter_last=1&fit=1280%2C640&url=https%3A%2F%2Fcdn0.tnwcdn.com%2Fwp-content%2Fblogs.dir%2F1%2Ffiles%2F2019%2F08%2Fbitcoin_today-header_bitcoin_today.jpg&signature=30221b6a68049cc6bc3b58f3ddb38864',\n",
       "   'publishedAt': '2020-09-11T08:14:23Z',\n",
       "   'content': 'Our robot colleague Satoshi Nakaboto writes about Bitcoin BTC every fucking day.\\r\\nWelcome to another edition of Bitcoin Today, where I, Satoshi Nakaboto, tell you whats been going on with Bitcoin in … [+2876 chars]'},\n",
       "  {'source': {'id': 'the-next-web', 'name': 'The Next Web'},\n",
       "   'author': 'Satoshi Nakaboto',\n",
       "   'title': 'Satoshi Nakaboto: ‘Bitcoin inches closer to $11K’',\n",
       "   'description': 'Our robot colleague Satoshi Nakaboto writes about Bitcoin every fucking day. Welcome to another edition of Bitcoin Today, where I, Satoshi Nakaboto, tell you what’s been going on with Bitcoin in the past 24 hours. As Satoshi Nakamoto used to say: Bob’s your u…',\n",
       "   'url': 'https://thenextweb.com/hardfork/2020/09/15/satoshi-nakaboto-bitcoin-inches-closer-to-11k/',\n",
       "   'urlToImage': 'https://img-cdn.tnwcdn.com/image/hardfork?filter_last=1&fit=1280%2C640&url=https%3A%2F%2Fcdn0.tnwcdn.com%2Fwp-content%2Fblogs.dir%2F1%2Ffiles%2F2019%2F08%2Fbitcoin_today-header_bitcoin_today.jpg&signature=30221b6a68049cc6bc3b58f3ddb38864',\n",
       "   'publishedAt': '2020-09-15T08:30:01Z',\n",
       "   'content': 'Our robot colleague Satoshi Nakaboto writes about Bitcoin BTC every fucking day.\\r\\nWelcome to another edition of Bitcoin Today, where I, Satoshi Nakaboto, tell you whats been going on with Bitcoin in … [+2899 chars]'},\n",
       "  {'source': {'id': 'the-next-web', 'name': 'The Next Web'},\n",
       "   'author': 'Satoshi Nakaboto',\n",
       "   'title': 'Satoshi Nakaboto: ‘MicroStrategy buys another $175M in Bitcoin’',\n",
       "   'description': 'Our robot colleague Satoshi Nakaboto writes about Bitcoin every fucking day. Welcome to another edition of Bitcoin Today, where I, Satoshi Nakaboto, tell you what’s been going on with Bitcoin in the past 24 hours. As Descartes used to say: Whip it, whip it, w…',\n",
       "   'url': 'https://thenextweb.com/hardfork/2020/09/16/satoshi-nakaboto-microstrategy-buys-another-175m-in-bitcoin/',\n",
       "   'urlToImage': 'https://img-cdn.tnwcdn.com/image/hardfork?filter_last=1&fit=1280%2C640&url=https%3A%2F%2Fcdn0.tnwcdn.com%2Fwp-content%2Fblogs.dir%2F1%2Ffiles%2F2019%2F08%2Fbitcoin_today-header_bitcoin_today.jpg&signature=30221b6a68049cc6bc3b58f3ddb38864',\n",
       "   'publishedAt': '2020-09-16T08:40:02Z',\n",
       "   'content': 'Our robot colleague Satoshi Nakaboto writes about Bitcoin BTC every fucking day.\\r\\nWelcome to another edition of Bitcoin Today, where I, Satoshi Nakaboto, tell you whats been going on with Bitcoin in … [+2886 chars]'},\n",
       "  {'source': {'id': 'the-next-web', 'name': 'The Next Web'},\n",
       "   'author': 'Satoshi Nakaboto',\n",
       "   'title': 'Satoshi Nakaboto: ‘Number of Bitcoin ATMs surpasses 10,000 worldwide’',\n",
       "   'description': 'Our robot colleague Satoshi Nakaboto writes about Bitcoin every fucking day. Welcome to another edition of Bitcoin Today, where I, Satoshi Nakaboto, tell you what’s been going on with Bitcoin in the past 24 hours. As Rousseau used to say: We’re\\xa0on the highway…',\n",
       "   'url': 'https://thenextweb.com/hardfork/2020/09/18/satoshi-nakaboto-number-of-bitcoin-atms-surpasses-10000-worldwide/',\n",
       "   'urlToImage': 'https://img-cdn.tnwcdn.com/image/hardfork?filter_last=1&fit=1280%2C640&url=https%3A%2F%2Fcdn0.tnwcdn.com%2Fwp-content%2Fblogs.dir%2F1%2Ffiles%2F2019%2F08%2Fbitcoin_today-header_bitcoin_today.jpg&signature=30221b6a68049cc6bc3b58f3ddb38864',\n",
       "   'publishedAt': '2020-09-18T09:30:45Z',\n",
       "   'content': 'Our robot colleague Satoshi Nakaboto writes about Bitcoin BTC every fucking day.\\r\\nWelcome to another edition of Bitcoin Today, where I, Satoshi Nakaboto, tell you whats been going on with Bitcoin in … [+2801 chars]'},\n",
       "  {'source': {'id': 'the-next-web', 'name': 'The Next Web'},\n",
       "   'author': 'Satoshi Nakaboto',\n",
       "   'title': 'Satoshi Nakaboto: ‘Bitcoin is now worth as much as Netflix’',\n",
       "   'description': 'Our robot colleague Satoshi Nakaboto writes about Bitcoin every fucking day. Welcome to another edition of Bitcoin Today, where I, Satoshi Nakaboto, tell you what’s been going on with Bitcoin in the past 24 hours. As Habermass used to say: Crack open this tas…',\n",
       "   'url': 'https://thenextweb.com/hardfork/2020/08/21/satoshi-nakaboto-bitcoin-is-now-worth-as-much-as-netflix/',\n",
       "   'urlToImage': 'https://img-cdn.tnwcdn.com/image/hardfork?filter_last=1&fit=1280%2C640&url=https%3A%2F%2Fcdn0.tnwcdn.com%2Fwp-content%2Fblogs.dir%2F1%2Ffiles%2F2019%2F08%2Fbitcoin_today-header_bitcoin_today.jpg&signature=30221b6a68049cc6bc3b58f3ddb38864',\n",
       "   'publishedAt': '2020-08-21T08:57:51Z',\n",
       "   'content': 'Our robot colleague Satoshi Nakaboto writes about Bitcoin BTC every fucking day.\\r\\nWelcome to another edition of Bitcoin Today, where I, Satoshi Nakaboto, tell you whats been going on with Bitcoin in … [+3024 chars]'},\n",
       "  {'source': {'id': 'the-next-web', 'name': 'The Next Web'},\n",
       "   'author': 'Satoshi Nakaboto',\n",
       "   'title': 'Satoshi Nakaboto: ‘Ryanair CEO believes Bitcoin is a ponzi scheme’',\n",
       "   'description': 'Our robot colleague Satoshi Nakaboto writes about Bitcoin every fucking day. Welcome to another edition of Bitcoin Today, where I, Satoshi Nakaboto, tell you what’s been going on with Bitcoin in the past 24 hours. As Marcus Aurelius used to say: Yippee! Bitco…',\n",
       "   'url': 'https://thenextweb.com/hardfork/2020/08/25/satoshi-nakaboto-ryanair-ceo-believes-bitcoin-is-a-ponzi-scheme/',\n",
       "   'urlToImage': 'https://img-cdn.tnwcdn.com/image/hardfork?filter_last=1&fit=1280%2C640&url=https%3A%2F%2Fcdn0.tnwcdn.com%2Fwp-content%2Fblogs.dir%2F1%2Ffiles%2F2019%2F08%2Fbitcoin_today-header_bitcoin_today.jpg&signature=30221b6a68049cc6bc3b58f3ddb38864',\n",
       "   'publishedAt': '2020-08-25T08:54:43Z',\n",
       "   'content': 'Our robot colleague Satoshi Nakaboto writes about Bitcoin BTC every fucking day.\\r\\nWelcome to another edition of Bitcoin Today, where I, Satoshi Nakaboto, tell you whats been going on with Bitcoin in … [+2986 chars]'}]}"
      ]
     },
     "execution_count": 47,
     "metadata": {},
     "output_type": "execute_result"
    }
   ],
   "source": [
    "# Create a newsapi client\n",
    "#help(NewsApiClient)\n",
    "\n",
    "newsapi = NewsApiClient(news_api_key)\n",
    "\n",
    "#help(newsapi)\n",
    "\n",
    "test = newsapi.get_everything(q='bitcoin')\n",
    "\n",
    "#type(test)\n",
    "\n",
    "test"
   ]
  },
  {
   "cell_type": "code",
   "execution_count": 4,
   "metadata": {},
   "outputs": [],
   "source": [
    "# Fetch the Bitcoin news articles\n",
    "# YOUR CODE HERE!"
   ]
  },
  {
   "cell_type": "code",
   "execution_count": 5,
   "metadata": {},
   "outputs": [],
   "source": [
    "# Fetch the Ethereum news articles\n",
    "# YOUR CODE HERE!"
   ]
  },
  {
   "cell_type": "code",
   "execution_count": 6,
   "metadata": {},
   "outputs": [],
   "source": [
    "# Create the Bitcoin sentiment scores DataFrame\n",
    "# YOUR CODE HERE!"
   ]
  },
  {
   "cell_type": "code",
   "execution_count": 7,
   "metadata": {},
   "outputs": [],
   "source": [
    "# Create the ethereum sentiment scores DataFrame\n",
    "# YOUR CODE HERE!"
   ]
  },
  {
   "cell_type": "code",
   "execution_count": 8,
   "metadata": {},
   "outputs": [],
   "source": [
    "# Describe the Bitcoin Sentiment\n",
    "# YOUR CODE HERE!"
   ]
  },
  {
   "cell_type": "code",
   "execution_count": 9,
   "metadata": {},
   "outputs": [],
   "source": [
    "# Describe the Ethereum Sentiment\n",
    "# YOUR CODE HERE!"
   ]
  },
  {
   "cell_type": "markdown",
   "metadata": {},
   "source": [
    "### Questions:\n",
    "\n",
    "Q: Which coin had the highest mean positive score?\n",
    "\n",
    "A: \n",
    "\n",
    "Q: Which coin had the highest compound score?\n",
    "\n",
    "A: \n",
    "\n",
    "Q. Which coin had the highest positive score?\n",
    "\n",
    "A: "
   ]
  },
  {
   "cell_type": "markdown",
   "metadata": {},
   "source": [
    "---"
   ]
  },
  {
   "cell_type": "markdown",
   "metadata": {},
   "source": [
    "# Tokenizer\n",
    "\n",
    "In this section, you will use NLTK and Python to tokenize the text for each coin. Be sure to:\n",
    "1. Lowercase each word\n",
    "2. Remove Punctuation\n",
    "3. Remove Stopwords"
   ]
  },
  {
   "cell_type": "code",
   "execution_count": 10,
   "metadata": {},
   "outputs": [],
   "source": [
    "from nltk.tokenize import word_tokenize, sent_tokenize\n",
    "from nltk.corpus import stopwords\n",
    "from nltk.stem import WordNetLemmatizer, PorterStemmer\n",
    "from string import punctuation\n",
    "import re"
   ]
  },
  {
   "cell_type": "code",
   "execution_count": 11,
   "metadata": {},
   "outputs": [],
   "source": [
    "# Expand the default stopwords list if necessary\n",
    "# YOUR CODE HERE!"
   ]
  },
  {
   "cell_type": "code",
   "execution_count": 12,
   "metadata": {},
   "outputs": [],
   "source": [
    "# Complete the tokenizer function\n",
    "def tokenizer(text):\n",
    "    \"\"\"Tokenizes text.\"\"\"\n",
    "    \n",
    "    # Create a list of the words\n",
    "\n",
    "    # Convert the words to lowercase\n",
    "    \n",
    "    # Remove the punctuation\n",
    "    \n",
    "    # Remove the stop words\n",
    "    \n",
    "    # Lemmatize Words into root words\n",
    "    \n",
    "    return tokens\n"
   ]
  },
  {
   "cell_type": "code",
   "execution_count": 13,
   "metadata": {},
   "outputs": [],
   "source": [
    "# Create a new tokens column for bitcoin\n",
    "# YOUR CODE HERE!"
   ]
  },
  {
   "cell_type": "code",
   "execution_count": 14,
   "metadata": {},
   "outputs": [],
   "source": [
    "# Create a new tokens column for ethereum\n",
    "# YOUR CODE HERE!"
   ]
  },
  {
   "cell_type": "markdown",
   "metadata": {},
   "source": [
    "---"
   ]
  },
  {
   "cell_type": "markdown",
   "metadata": {},
   "source": [
    "# NGrams and Frequency Analysis\n",
    "\n",
    "In this section you will look at the ngrams and word frequency for each coin. \n",
    "\n",
    "1. Use NLTK to produce the n-grams for N = 2. \n",
    "2. List the top 10 words for each coin. "
   ]
  },
  {
   "cell_type": "code",
   "execution_count": 15,
   "metadata": {},
   "outputs": [],
   "source": [
    "from collections import Counter\n",
    "from nltk import ngrams"
   ]
  },
  {
   "cell_type": "code",
   "execution_count": 16,
   "metadata": {},
   "outputs": [],
   "source": [
    "# Generate the Bitcoin N-grams where N=2\n",
    "# YOUR CODE HERE!"
   ]
  },
  {
   "cell_type": "code",
   "execution_count": 17,
   "metadata": {},
   "outputs": [],
   "source": [
    "# Generate the Ethereum N-grams where N=2\n",
    "# YOUR CODE HERE!"
   ]
  },
  {
   "cell_type": "code",
   "execution_count": 18,
   "metadata": {},
   "outputs": [],
   "source": [
    "# Use the token_count function to generate the top 10 words from each coin\n",
    "def token_count(tokens, N=10):\n",
    "    \"\"\"Returns the top N tokens from the frequency count\"\"\"\n",
    "    return Counter(tokens).most_common(N)"
   ]
  },
  {
   "cell_type": "code",
   "execution_count": 19,
   "metadata": {},
   "outputs": [],
   "source": [
    "# Get the top 10 words for Bitcoin\n",
    "# YOUR CODE HERE!"
   ]
  },
  {
   "cell_type": "code",
   "execution_count": 20,
   "metadata": {},
   "outputs": [],
   "source": [
    "# Get the top 10 words for Ethereum\n",
    "# YOUR CODE HERE!"
   ]
  },
  {
   "cell_type": "markdown",
   "metadata": {},
   "source": [
    "# Word Clouds\n",
    "\n",
    "In this section, you will generate word clouds for each coin to summarize the news for each coin"
   ]
  },
  {
   "cell_type": "code",
   "execution_count": 21,
   "metadata": {},
   "outputs": [],
   "source": [
    "from wordcloud import WordCloud\n",
    "import matplotlib.pyplot as plt\n",
    "plt.style.use('seaborn-whitegrid')\n",
    "import matplotlib as mpl\n",
    "mpl.rcParams['figure.figsize'] = [20.0, 10.0]"
   ]
  },
  {
   "cell_type": "code",
   "execution_count": 22,
   "metadata": {},
   "outputs": [],
   "source": [
    "# Generate the Bitcoin word cloud\n",
    "# YOUR CODE HERE!"
   ]
  },
  {
   "cell_type": "code",
   "execution_count": 23,
   "metadata": {},
   "outputs": [],
   "source": [
    "# Generate the Ethereum word cloud\n",
    "# YOUR CODE HERE!"
   ]
  },
  {
   "cell_type": "markdown",
   "metadata": {},
   "source": [
    "# Named Entity Recognition\n",
    "\n",
    "In this section, you will build a named entity recognition model for both coins and visualize the tags using SpaCy."
   ]
  },
  {
   "cell_type": "code",
   "execution_count": 24,
   "metadata": {},
   "outputs": [],
   "source": [
    "import spacy\n",
    "from spacy import displacy"
   ]
  },
  {
   "cell_type": "code",
   "execution_count": 25,
   "metadata": {},
   "outputs": [],
   "source": [
    "# Optional - download a language model for SpaCy\n",
    "# !python -m spacy download en_core_web_sm"
   ]
  },
  {
   "cell_type": "code",
   "execution_count": 26,
   "metadata": {},
   "outputs": [],
   "source": [
    "# Load the spaCy model\n",
    "nlp = spacy.load('en_core_web_sm')"
   ]
  },
  {
   "cell_type": "markdown",
   "metadata": {},
   "source": [
    "## Bitcoin NER"
   ]
  },
  {
   "cell_type": "code",
   "execution_count": 27,
   "metadata": {},
   "outputs": [],
   "source": [
    "# Concatenate all of the bitcoin text together\n",
    "# YOUR CODE HERE!"
   ]
  },
  {
   "cell_type": "code",
   "execution_count": 28,
   "metadata": {},
   "outputs": [],
   "source": [
    "# Run the NER processor on all of the text\n",
    "# YOUR CODE HERE!\n",
    "\n",
    "# Add a title to the document\n",
    "# YOUR CODE HERE!"
   ]
  },
  {
   "cell_type": "code",
   "execution_count": 29,
   "metadata": {},
   "outputs": [],
   "source": [
    "# Render the visualization\n",
    "# YOUR CODE HERE!"
   ]
  },
  {
   "cell_type": "code",
   "execution_count": 30,
   "metadata": {},
   "outputs": [],
   "source": [
    "# List all Entities\n",
    "# YOUR CODE HERE!"
   ]
  },
  {
   "cell_type": "markdown",
   "metadata": {},
   "source": [
    "---"
   ]
  },
  {
   "cell_type": "markdown",
   "metadata": {},
   "source": [
    "## Ethereum NER"
   ]
  },
  {
   "cell_type": "code",
   "execution_count": 31,
   "metadata": {},
   "outputs": [],
   "source": [
    "# Concatenate all of the bitcoin text together\n",
    "# YOUR CODE HERE!"
   ]
  },
  {
   "cell_type": "code",
   "execution_count": 32,
   "metadata": {},
   "outputs": [],
   "source": [
    "# Run the NER processor on all of the text\n",
    "# YOUR CODE HERE!\n",
    "\n",
    "# Add a title to the document\n",
    "# YOUR CODE HERE!"
   ]
  },
  {
   "cell_type": "code",
   "execution_count": 33,
   "metadata": {},
   "outputs": [],
   "source": [
    "# Render the visualization\n",
    "# YOUR CODE HERE!"
   ]
  },
  {
   "cell_type": "code",
   "execution_count": 34,
   "metadata": {},
   "outputs": [],
   "source": [
    "# List all Entities\n",
    "# YOUR CODE HERE!"
   ]
  }
 ],
 "metadata": {
  "file_extension": ".py",
  "kernelspec": {
   "display_name": "Python 3",
   "language": "python",
   "name": "python3"
  },
  "language_info": {
   "codemirror_mode": {
    "name": "ipython",
    "version": 3
   },
   "file_extension": ".py",
   "mimetype": "text/x-python",
   "name": "python",
   "nbconvert_exporter": "python",
   "pygments_lexer": "ipython3",
   "version": "3.7.7"
  },
  "mimetype": "text/x-python",
  "name": "python",
  "npconvert_exporter": "python",
  "pygments_lexer": "ipython3",
  "version": 3
 },
 "nbformat": 4,
 "nbformat_minor": 4
}
