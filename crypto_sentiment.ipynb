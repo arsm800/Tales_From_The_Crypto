{
 "cells": [
  {
   "cell_type": "markdown",
   "metadata": {},
   "source": [
    "# News Headlines Sentiment\n",
    "\n",
    "Use the news api to pull the latest news articles for bitcoin and ethereum and create a DataFrame of sentiment scores for each coin. \n",
    "\n",
    "Use descriptive statistics to answer the following questions:\n",
    "1. Which coin had the highest mean positive score?\n",
    "2. Which coin had the highest negative score?\n",
    "3. Which coin had the highest positive score?"
   ]
  },
  {
   "cell_type": "code",
   "execution_count": 71,
   "metadata": {},
   "outputs": [],
   "source": [
    "# Initial imports\n",
    "import os\n",
    "import pandas as pd\n",
    "from dotenv import load_dotenv\n",
    "from nltk.sentiment.vader import SentimentIntensityAnalyzer\n",
    "\n",
    "from newsapi.newsapi_client import NewsApiClient\n",
    "\n",
    "analyzer = SentimentIntensityAnalyzer()\n",
    "\n",
    "\n",
    "%matplotlib inline\n",
    "\n",
    "from tensorflow.keras.models import Sequential\n",
    "from tensorflow.keras.layers import Dense"
   ]
  },
  {
   "cell_type": "code",
   "execution_count": 63,
   "metadata": {},
   "outputs": [],
   "source": [
    "# Read your api key environment variable\n",
    "load_dotenv()\n",
    "\n",
    "news_api_key = os.getenv(\"news_api_key\")\n",
    "\n",
    "#help(NewsApiClient)\n",
    "\n"
   ]
  },
  {
   "cell_type": "code",
   "execution_count": 44,
   "metadata": {},
   "outputs": [
    {
     "name": "stdout",
     "output_type": "stream",
     "text": [
      "Help on method get_everything in module newsapi.newsapi_client:\n",
      "\n",
      "get_everything(q=None, sources=None, domains=None, exclude_domains=None, from_param=None, to=None, language=None, sort_by=None, page=None, page_size=None) method of newsapi.newsapi_client.NewsApiClient instance\n",
      "        Search through millions of articles from over 5,000 large and small news sources and blogs.\n",
      "    \n",
      "        Optional parameters:\n",
      "            (str) q - return headlines w/ specified coin! Valid values are:\n",
      "                        'bitcoin', 'trump', 'tesla', 'ethereum', etc\n",
      "    \n",
      "            (str) sources - return headlines of news sources! some Valid values are:\n",
      "                        'bbc-news', 'the-verge', 'abc-news', 'crypto coins news',\n",
      "                        'ary news','associated press','wired','aftenposten','australian financial review','axios',\n",
      "                        'bbc news','bild','blasting news','bloomberg','business insider','engadget','google news',\n",
      "                        'hacker news','info money,'recode','techcrunch','techradar','the next web','the verge' etc.\n",
      "    \n",
      "            (str) domains - A comma-seperated string of domains (eg bbc.co.uk, techcrunch.com, engadget.com) to restrict the search to.\n",
      "    \n",
      "    (str) exclude_domains - A comma_seperated string of domains to be excluded from the search\n",
      "    \n",
      "            (str) from_param - A date and optional time for the oldest article allowed.\n",
      "                                   (e.g. 2018-03-05 or 2018-03-05T03:46:15)\n",
      "    \n",
      "            (str) to - A date and optional time for the newest article allowed.\n",
      "    \n",
      "            (str) language - The 2-letter ISO-639-1 code of the language you want to get headlines for. Valid values are:\n",
      "                            'ar','de','en','es','fr','he','it','nl','no','pt','ru','se','ud','zh'\n",
      "    \n",
      "            (str) sort_by - The order to sort the articles in. Valid values are: 'relevancy','popularity','publishedAt'\n",
      "    \n",
      "            (int) page_size - The number of results to return per page (request). 20 is the default, 100 is the maximum.\n",
      "    \n",
      "            (int) page - Use this to page through the results if the total results found is greater than the page size.\n",
      "\n"
     ]
    }
   ],
   "source": [
    "# Create a newsapi client\n",
    "#help(NewsApiClient)\n",
    "\n",
    "newsapi = NewsApiClient(news_api_key)\n",
    "\n",
    "#help(newsapi)\n",
    "\n",
    "test = newsapi.get_everything(q='bitcoin')\n",
    "\n",
    "#type(test)\n",
    "\n",
    "help(newsapi.get_everything)\n",
    "\n"
   ]
  },
  {
   "cell_type": "code",
   "execution_count": 53,
   "metadata": {},
   "outputs": [
    {
     "data": {
      "text/plain": [
       "{'source': {'id': None, 'name': 'Gizmodo.com'},\n",
       " 'author': 'John Biggs',\n",
       " 'title': 'Crypto Traders Cut Out the Middleman, Simply Rob Victim',\n",
       " 'description': 'Two alleged crypto traders in Singapore apparently came up with a fool-proof plan: rather than convert a customer’s 365,000 Singapore dollars to bitcoin, they would simply rob the victim when he came in to do the trade.Read more...',\n",
       " 'url': 'https://gizmodo.com/crypto-traders-cut-out-the-middleman-simply-rob-victim-1845011301',\n",
       " 'urlToImage': 'https://i.kinja-img.com/gawker-media/image/upload/c_fill,f_auto,fl_progressive,g_center,h_675,pg_1,q_80,w_1200/li0fkkejdmaugm8v1fkw.jpg',\n",
       " 'publishedAt': '2020-09-10T14:28:00Z',\n",
       " 'content': 'Two alleged crypto traders in Singapore apparently came up with a fool-proof plan: rather than convert a customers 365,000 Singapore dollars to bitcoin, they would simply rob the victim when he came … [+1735 chars]'}"
      ]
     },
     "execution_count": 53,
     "metadata": {},
     "output_type": "execute_result"
    }
   ],
   "source": [
    "# Fetch the Bitcoin news articles\n",
    "bitcoin_headlines = newsapi.get_everything(q='bitcoin',\n",
    "                                           language=\"en\",\n",
    "                                           page_size=100,\n",
    "                                           sort_by=\"relevancy\")\n",
    "\n",
    "\n",
    "\n",
    "bitcoin_headlines['articles'][0]"
   ]
  },
  {
   "cell_type": "code",
   "execution_count": 70,
   "metadata": {},
   "outputs": [
    {
     "data": {
      "text/plain": [
       "str"
      ]
     },
     "execution_count": 70,
     "metadata": {},
     "output_type": "execute_result"
    }
   ],
   "source": [
    "# Fetch the Ethereum news articles\n",
    "ethereum_headlines = newsapi.get_everything(q='ethereum',\n",
    "                                            language=\"en\",\n",
    "                                            page_size=100,\n",
    "                                            sort_by=\"relevancy\")\n",
    "\n",
    "\n",
    "# Confirm output type of sentiment analyzer\n",
    "test_sentiment = analyzer.polarity_scores(ethereum_headlines['articles'][0]['content'])\n",
    "\n",
    "test_sentiment\n",
    "\n",
    "type(ethereum_headlines['articles'][0]['content'])"
   ]
  },
  {
   "cell_type": "code",
   "execution_count": 87,
   "metadata": {},
   "outputs": [
    {
     "data": {
      "text/html": [
       "<div>\n",
       "<style scoped>\n",
       "    .dataframe tbody tr th:only-of-type {\n",
       "        vertical-align: middle;\n",
       "    }\n",
       "\n",
       "    .dataframe tbody tr th {\n",
       "        vertical-align: top;\n",
       "    }\n",
       "\n",
       "    .dataframe thead th {\n",
       "        text-align: right;\n",
       "    }\n",
       "</style>\n",
       "<table border=\"1\" class=\"dataframe\">\n",
       "  <thead>\n",
       "    <tr style=\"text-align: right;\">\n",
       "      <th></th>\n",
       "      <th>date</th>\n",
       "      <th>text</th>\n",
       "      <th>compound</th>\n",
       "      <th>positive</th>\n",
       "      <th>negative</th>\n",
       "      <th>neutral</th>\n",
       "    </tr>\n",
       "  </thead>\n",
       "  <tbody>\n",
       "    <tr>\n",
       "      <th>0</th>\n",
       "      <td>2020-09-10</td>\n",
       "      <td>Two alleged crypto traders in Singapore appare...</td>\n",
       "      <td>-0.6908</td>\n",
       "      <td>0.000</td>\n",
       "      <td>0.16</td>\n",
       "      <td>0.840</td>\n",
       "    </tr>\n",
       "    <tr>\n",
       "      <th>1</th>\n",
       "      <td>2020-09-08</td>\n",
       "      <td>By Alexis Akwagyiram, Tom Wilson\\r\\n* Monthly ...</td>\n",
       "      <td>0.0000</td>\n",
       "      <td>0.000</td>\n",
       "      <td>0.00</td>\n",
       "      <td>1.000</td>\n",
       "    </tr>\n",
       "    <tr>\n",
       "      <th>2</th>\n",
       "      <td>2020-08-23</td>\n",
       "      <td>“The COVID-19 pandemic has resulted in a mass ...</td>\n",
       "      <td>0.2732</td>\n",
       "      <td>0.063</td>\n",
       "      <td>0.00</td>\n",
       "      <td>0.937</td>\n",
       "    </tr>\n",
       "    <tr>\n",
       "      <th>3</th>\n",
       "      <td>2020-09-08</td>\n",
       "      <td>LAGOS/LONDON (Reuters) - Four months ago, Abol...</td>\n",
       "      <td>0.0000</td>\n",
       "      <td>0.000</td>\n",
       "      <td>0.00</td>\n",
       "      <td>1.000</td>\n",
       "    </tr>\n",
       "    <tr>\n",
       "      <th>4</th>\n",
       "      <td>2020-09-08</td>\n",
       "      <td>LAGOS/LONDON (Reuters) - Four months ago, Abol...</td>\n",
       "      <td>0.0000</td>\n",
       "      <td>0.000</td>\n",
       "      <td>0.00</td>\n",
       "      <td>1.000</td>\n",
       "    </tr>\n",
       "  </tbody>\n",
       "</table>\n",
       "</div>"
      ],
      "text/plain": [
       "         date                                               text  compound  \\\n",
       "0  2020-09-10  Two alleged crypto traders in Singapore appare...   -0.6908   \n",
       "1  2020-09-08  By Alexis Akwagyiram, Tom Wilson\\r\\n* Monthly ...    0.0000   \n",
       "2  2020-08-23  “The COVID-19 pandemic has resulted in a mass ...    0.2732   \n",
       "3  2020-09-08  LAGOS/LONDON (Reuters) - Four months ago, Abol...    0.0000   \n",
       "4  2020-09-08  LAGOS/LONDON (Reuters) - Four months ago, Abol...    0.0000   \n",
       "\n",
       "   positive  negative  neutral  \n",
       "0     0.000      0.16    0.840  \n",
       "1     0.000      0.00    1.000  \n",
       "2     0.063      0.00    0.937  \n",
       "3     0.000      0.00    1.000  \n",
       "4     0.000      0.00    1.000  "
      ]
     },
     "execution_count": 87,
     "metadata": {},
     "output_type": "execute_result"
    }
   ],
   "source": [
    "# Create the Bitcoin sentiment scores DataFrame\n",
    "\n",
    "bitcoin_sentiment = []\n",
    "\n",
    "for article in bitcoin_headlines[\"articles\"]:\n",
    "    \n",
    "    try:\n",
    "    \n",
    "        text = article[\"content\"]\n",
    "        date = article[\"publishedAt\"][:10]\n",
    "    \n",
    "        sentiment = analyzer.polarity_scores(text)\n",
    "    \n",
    "        compound = sentiment[\"compound\"]\n",
    "        positive = sentiment[\"pos\"]\n",
    "        negative = sentiment[\"neg\"]\n",
    "        neutral = sentiment[\"neu\"]\n",
    "\n",
    "\n",
    "        bitcoin_sentiment.append({\n",
    "            \"date\": date,\n",
    "            \"text\": text,\n",
    "            \"compound\": compound,\n",
    "            \"positive\": positive,\n",
    "            \"negative\": negative,\n",
    "            \"neutral\": neutral\n",
    "            })\n",
    "        \n",
    "    except AttributeError:\n",
    "        \n",
    "        pass\n",
    "\n",
    "type(bitcoin_sentiment[0]['text'])\n",
    "\n",
    "# I first tried to create the above function with out the 'try...except...pass' structure.  I kept getting the error\n",
    "# \"AttributeError: 'NoneType' object has no attribute 'encode'\".  What exactly does this mean?  Were some article \n",
    "# texts NoneTypes instead of strings?  In any case, the 'try' seemed to fix it.  (Used in class exercise.)\n",
    "\n",
    "\n",
    "bitcoin_sentiment\n",
    "\n",
    "bitcoin_df = pd.DataFrame(bitcoin_sentiment)\n",
    "\n",
    "columns = [\"date\", \"text\", \"compound\", \"positive\", \"negative\", \"neutral\"]\n",
    "\n",
    "# Rearrange columns\n",
    "bitcoin_df = bitcoin_df[columns]\n",
    "\n",
    "bitcoin_df.head()"
   ]
  },
  {
   "cell_type": "code",
   "execution_count": 92,
   "metadata": {},
   "outputs": [],
   "source": [
    "# Create the ethereum sentiment scores DataFrame\n",
    "\n",
    "ethereum_sentiment = []\n",
    "\n",
    "for article in ethereum_headlines[\"articles\"]:\n",
    "    \n",
    "    try:\n",
    "    \n",
    "        text = article[\"content\"]\n",
    "        date = article[\"publishedAt\"][:10]\n",
    "    \n",
    "        sentiment = analyzer.polarity_scores(text)\n",
    "    \n",
    "        compound = sentiment[\"compound\"]\n",
    "        positive = sentiment[\"pos\"]\n",
    "        negative = sentiment[\"neg\"]\n",
    "        neutral = sentiment[\"neu\"]\n",
    "\n",
    "\n",
    "        ethereum_sentiment.append({\n",
    "            \"date\": date,\n",
    "            \"text\": text,\n",
    "            \"compound\": compound,\n",
    "            \"positive\": positive,\n",
    "            \"negative\": negative,\n",
    "            \"neutral\": neutral\n",
    "            })\n",
    "        \n",
    "    except AttributeError:\n",
    "        \n",
    "        pass\n",
    "\n",
    "type(ethereum_sentiment[0]['text'])\n",
    "\n",
    "\n",
    "ethereum_sentiment\n",
    "\n",
    "ethereum_df = pd.DataFrame(ethereum_sentiment)\n",
    "\n",
    "columns = [\"date\", \"text\", \"compound\", \"positive\", \"negative\", \"neutral\"]\n",
    "\n",
    "# Rearrange columns\n",
    "ethereum_df = ethereum_df[columns]\n",
    "\n",
    "ethereum_df.head()"
   ]
  },
  {
   "cell_type": "code",
   "execution_count": 8,
   "metadata": {},
   "outputs": [],
   "source": [
    "# Describe the Bitcoin Sentiment\n",
    "# YOUR CODE HERE!"
   ]
  },
  {
   "cell_type": "code",
   "execution_count": 9,
   "metadata": {},
   "outputs": [],
   "source": [
    "# Describe the Ethereum Sentiment\n",
    "# YOUR CODE HERE!"
   ]
  },
  {
   "cell_type": "markdown",
   "metadata": {},
   "source": [
    "### Questions:\n",
    "\n",
    "Q: Which coin had the highest mean positive score?\n",
    "\n",
    "A: \n",
    "\n",
    "Q: Which coin had the highest compound score?\n",
    "\n",
    "A: \n",
    "\n",
    "Q. Which coin had the highest positive score?\n",
    "\n",
    "A: "
   ]
  },
  {
   "cell_type": "markdown",
   "metadata": {},
   "source": [
    "---"
   ]
  },
  {
   "cell_type": "markdown",
   "metadata": {},
   "source": [
    "# Tokenizer\n",
    "\n",
    "In this section, you will use NLTK and Python to tokenize the text for each coin. Be sure to:\n",
    "1. Lowercase each word\n",
    "2. Remove Punctuation\n",
    "3. Remove Stopwords"
   ]
  },
  {
   "cell_type": "code",
   "execution_count": 10,
   "metadata": {},
   "outputs": [],
   "source": [
    "from nltk.tokenize import word_tokenize, sent_tokenize\n",
    "from nltk.corpus import stopwords\n",
    "from nltk.stem import WordNetLemmatizer, PorterStemmer\n",
    "from string import punctuation\n",
    "import re"
   ]
  },
  {
   "cell_type": "code",
   "execution_count": 11,
   "metadata": {},
   "outputs": [],
   "source": [
    "# Expand the default stopwords list if necessary\n",
    "# YOUR CODE HERE!"
   ]
  },
  {
   "cell_type": "code",
   "execution_count": 12,
   "metadata": {},
   "outputs": [],
   "source": [
    "# Complete the tokenizer function\n",
    "def tokenizer(text):\n",
    "    \"\"\"Tokenizes text.\"\"\"\n",
    "    \n",
    "    # Create a list of the words\n",
    "\n",
    "    # Convert the words to lowercase\n",
    "    \n",
    "    # Remove the punctuation\n",
    "    \n",
    "    # Remove the stop words\n",
    "    \n",
    "    # Lemmatize Words into root words\n",
    "    \n",
    "    return tokens\n"
   ]
  },
  {
   "cell_type": "code",
   "execution_count": 13,
   "metadata": {},
   "outputs": [],
   "source": [
    "# Create a new tokens column for bitcoin\n",
    "# YOUR CODE HERE!"
   ]
  },
  {
   "cell_type": "code",
   "execution_count": 14,
   "metadata": {},
   "outputs": [],
   "source": [
    "# Create a new tokens column for ethereum\n",
    "# YOUR CODE HERE!"
   ]
  },
  {
   "cell_type": "markdown",
   "metadata": {},
   "source": [
    "---"
   ]
  },
  {
   "cell_type": "markdown",
   "metadata": {},
   "source": [
    "# NGrams and Frequency Analysis\n",
    "\n",
    "In this section you will look at the ngrams and word frequency for each coin. \n",
    "\n",
    "1. Use NLTK to produce the n-grams for N = 2. \n",
    "2. List the top 10 words for each coin. "
   ]
  },
  {
   "cell_type": "code",
   "execution_count": 15,
   "metadata": {},
   "outputs": [],
   "source": [
    "from collections import Counter\n",
    "from nltk import ngrams"
   ]
  },
  {
   "cell_type": "code",
   "execution_count": 16,
   "metadata": {},
   "outputs": [],
   "source": [
    "# Generate the Bitcoin N-grams where N=2\n",
    "# YOUR CODE HERE!"
   ]
  },
  {
   "cell_type": "code",
   "execution_count": 17,
   "metadata": {},
   "outputs": [],
   "source": [
    "# Generate the Ethereum N-grams where N=2\n",
    "# YOUR CODE HERE!"
   ]
  },
  {
   "cell_type": "code",
   "execution_count": 18,
   "metadata": {},
   "outputs": [],
   "source": [
    "# Use the token_count function to generate the top 10 words from each coin\n",
    "def token_count(tokens, N=10):\n",
    "    \"\"\"Returns the top N tokens from the frequency count\"\"\"\n",
    "    return Counter(tokens).most_common(N)"
   ]
  },
  {
   "cell_type": "code",
   "execution_count": 19,
   "metadata": {},
   "outputs": [],
   "source": [
    "# Get the top 10 words for Bitcoin\n",
    "# YOUR CODE HERE!"
   ]
  },
  {
   "cell_type": "code",
   "execution_count": 20,
   "metadata": {},
   "outputs": [],
   "source": [
    "# Get the top 10 words for Ethereum\n",
    "# YOUR CODE HERE!"
   ]
  },
  {
   "cell_type": "markdown",
   "metadata": {},
   "source": [
    "# Word Clouds\n",
    "\n",
    "In this section, you will generate word clouds for each coin to summarize the news for each coin"
   ]
  },
  {
   "cell_type": "code",
   "execution_count": 21,
   "metadata": {},
   "outputs": [],
   "source": [
    "from wordcloud import WordCloud\n",
    "import matplotlib.pyplot as plt\n",
    "plt.style.use('seaborn-whitegrid')\n",
    "import matplotlib as mpl\n",
    "mpl.rcParams['figure.figsize'] = [20.0, 10.0]"
   ]
  },
  {
   "cell_type": "code",
   "execution_count": 22,
   "metadata": {},
   "outputs": [],
   "source": [
    "# Generate the Bitcoin word cloud\n",
    "# YOUR CODE HERE!"
   ]
  },
  {
   "cell_type": "code",
   "execution_count": 23,
   "metadata": {},
   "outputs": [],
   "source": [
    "# Generate the Ethereum word cloud\n",
    "# YOUR CODE HERE!"
   ]
  },
  {
   "cell_type": "markdown",
   "metadata": {},
   "source": [
    "# Named Entity Recognition\n",
    "\n",
    "In this section, you will build a named entity recognition model for both coins and visualize the tags using SpaCy."
   ]
  },
  {
   "cell_type": "code",
   "execution_count": 24,
   "metadata": {},
   "outputs": [],
   "source": [
    "import spacy\n",
    "from spacy import displacy"
   ]
  },
  {
   "cell_type": "code",
   "execution_count": 25,
   "metadata": {},
   "outputs": [],
   "source": [
    "# Optional - download a language model for SpaCy\n",
    "# !python -m spacy download en_core_web_sm"
   ]
  },
  {
   "cell_type": "code",
   "execution_count": 26,
   "metadata": {},
   "outputs": [],
   "source": [
    "# Load the spaCy model\n",
    "nlp = spacy.load('en_core_web_sm')"
   ]
  },
  {
   "cell_type": "markdown",
   "metadata": {},
   "source": [
    "## Bitcoin NER"
   ]
  },
  {
   "cell_type": "code",
   "execution_count": 27,
   "metadata": {},
   "outputs": [],
   "source": [
    "# Concatenate all of the bitcoin text together\n",
    "# YOUR CODE HERE!"
   ]
  },
  {
   "cell_type": "code",
   "execution_count": 28,
   "metadata": {},
   "outputs": [],
   "source": [
    "# Run the NER processor on all of the text\n",
    "# YOUR CODE HERE!\n",
    "\n",
    "# Add a title to the document\n",
    "# YOUR CODE HERE!"
   ]
  },
  {
   "cell_type": "code",
   "execution_count": 29,
   "metadata": {},
   "outputs": [],
   "source": [
    "# Render the visualization\n",
    "# YOUR CODE HERE!"
   ]
  },
  {
   "cell_type": "code",
   "execution_count": 30,
   "metadata": {},
   "outputs": [],
   "source": [
    "# List all Entities\n",
    "# YOUR CODE HERE!"
   ]
  },
  {
   "cell_type": "markdown",
   "metadata": {},
   "source": [
    "---"
   ]
  },
  {
   "cell_type": "markdown",
   "metadata": {},
   "source": [
    "## Ethereum NER"
   ]
  },
  {
   "cell_type": "code",
   "execution_count": 31,
   "metadata": {},
   "outputs": [],
   "source": [
    "# Concatenate all of the bitcoin text together\n",
    "# YOUR CODE HERE!"
   ]
  },
  {
   "cell_type": "code",
   "execution_count": 32,
   "metadata": {},
   "outputs": [],
   "source": [
    "# Run the NER processor on all of the text\n",
    "# YOUR CODE HERE!\n",
    "\n",
    "# Add a title to the document\n",
    "# YOUR CODE HERE!"
   ]
  },
  {
   "cell_type": "code",
   "execution_count": 33,
   "metadata": {},
   "outputs": [],
   "source": [
    "# Render the visualization\n",
    "# YOUR CODE HERE!"
   ]
  },
  {
   "cell_type": "code",
   "execution_count": 34,
   "metadata": {},
   "outputs": [],
   "source": [
    "# List all Entities\n",
    "# YOUR CODE HERE!"
   ]
  }
 ],
 "metadata": {
  "file_extension": ".py",
  "kernelspec": {
   "display_name": "Python 3",
   "language": "python",
   "name": "python3"
  },
  "language_info": {
   "codemirror_mode": {
    "name": "ipython",
    "version": 3
   },
   "file_extension": ".py",
   "mimetype": "text/x-python",
   "name": "python",
   "nbconvert_exporter": "python",
   "pygments_lexer": "ipython3",
   "version": "3.7.7"
  },
  "mimetype": "text/x-python",
  "name": "python",
  "npconvert_exporter": "python",
  "pygments_lexer": "ipython3",
  "version": 3
 },
 "nbformat": 4,
 "nbformat_minor": 4
}
