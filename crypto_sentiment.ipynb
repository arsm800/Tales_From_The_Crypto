{
 "cells": [
  {
   "cell_type": "markdown",
   "metadata": {},
   "source": [
    "# News Headlines Sentiment\n",
    "\n",
    "Use the news api to pull the latest news articles for bitcoin and ethereum and create a DataFrame of sentiment scores for each coin. \n",
    "\n",
    "Use descriptive statistics to answer the following questions:\n",
    "1. Which coin had the highest mean positive score?\n",
    "2. Which coin had the highest negative score?\n",
    "3. Which coin had the highest positive score?"
   ]
  },
  {
   "cell_type": "code",
   "execution_count": 71,
   "metadata": {},
   "outputs": [],
   "source": [
    "# Initial imports\n",
    "import os\n",
    "import pandas as pd\n",
    "from dotenv import load_dotenv\n",
    "from nltk.sentiment.vader import SentimentIntensityAnalyzer\n",
    "\n",
    "from newsapi.newsapi_client import NewsApiClient\n",
    "\n",
    "analyzer = SentimentIntensityAnalyzer()\n",
    "\n",
    "\n",
    "%matplotlib inline\n",
    "\n",
    "from tensorflow.keras.models import Sequential\n",
    "from tensorflow.keras.layers import Dense"
   ]
  },
  {
   "cell_type": "code",
   "execution_count": 63,
   "metadata": {},
   "outputs": [],
   "source": [
    "# Read your api key environment variable\n",
    "load_dotenv()\n",
    "\n",
    "news_api_key = os.getenv(\"news_api_key\")\n",
    "\n",
    "#help(NewsApiClient)\n",
    "\n"
   ]
  },
  {
   "cell_type": "code",
   "execution_count": 44,
   "metadata": {},
   "outputs": [
    {
     "name": "stdout",
     "output_type": "stream",
     "text": [
      "Help on method get_everything in module newsapi.newsapi_client:\n",
      "\n",
      "get_everything(q=None, sources=None, domains=None, exclude_domains=None, from_param=None, to=None, language=None, sort_by=None, page=None, page_size=None) method of newsapi.newsapi_client.NewsApiClient instance\n",
      "        Search through millions of articles from over 5,000 large and small news sources and blogs.\n",
      "    \n",
      "        Optional parameters:\n",
      "            (str) q - return headlines w/ specified coin! Valid values are:\n",
      "                        'bitcoin', 'trump', 'tesla', 'ethereum', etc\n",
      "    \n",
      "            (str) sources - return headlines of news sources! some Valid values are:\n",
      "                        'bbc-news', 'the-verge', 'abc-news', 'crypto coins news',\n",
      "                        'ary news','associated press','wired','aftenposten','australian financial review','axios',\n",
      "                        'bbc news','bild','blasting news','bloomberg','business insider','engadget','google news',\n",
      "                        'hacker news','info money,'recode','techcrunch','techradar','the next web','the verge' etc.\n",
      "    \n",
      "            (str) domains - A comma-seperated string of domains (eg bbc.co.uk, techcrunch.com, engadget.com) to restrict the search to.\n",
      "    \n",
      "    (str) exclude_domains - A comma_seperated string of domains to be excluded from the search\n",
      "    \n",
      "            (str) from_param - A date and optional time for the oldest article allowed.\n",
      "                                   (e.g. 2018-03-05 or 2018-03-05T03:46:15)\n",
      "    \n",
      "            (str) to - A date and optional time for the newest article allowed.\n",
      "    \n",
      "            (str) language - The 2-letter ISO-639-1 code of the language you want to get headlines for. Valid values are:\n",
      "                            'ar','de','en','es','fr','he','it','nl','no','pt','ru','se','ud','zh'\n",
      "    \n",
      "            (str) sort_by - The order to sort the articles in. Valid values are: 'relevancy','popularity','publishedAt'\n",
      "    \n",
      "            (int) page_size - The number of results to return per page (request). 20 is the default, 100 is the maximum.\n",
      "    \n",
      "            (int) page - Use this to page through the results if the total results found is greater than the page size.\n",
      "\n"
     ]
    }
   ],
   "source": [
    "# Create a newsapi client\n",
    "#help(NewsApiClient)\n",
    "\n",
    "newsapi = NewsApiClient(news_api_key)\n",
    "\n",
    "#help(newsapi)\n",
    "\n",
    "test = newsapi.get_everything(q='bitcoin')\n",
    "\n",
    "#type(test)\n",
    "\n",
    "help(newsapi.get_everything)\n",
    "\n"
   ]
  },
  {
   "cell_type": "code",
   "execution_count": 100,
   "metadata": {},
   "outputs": [
    {
     "data": {
      "text/plain": [
       "100"
      ]
     },
     "execution_count": 100,
     "metadata": {},
     "output_type": "execute_result"
    }
   ],
   "source": [
    "# Fetch the Bitcoin news articles\n",
    "bitcoin_headlines = newsapi.get_everything(q='bitcoin',\n",
    "                                           language=\"en\",\n",
    "                                           page_size=100,\n",
    "                                           sort_by=\"relevancy\")\n",
    "\n",
    "\n",
    "\n",
    "bitcoin_headlines['articles'][0]\n",
    "\n",
    "len(bitcoin_headlines['articles'])"
   ]
  },
  {
   "cell_type": "code",
   "execution_count": 97,
   "metadata": {},
   "outputs": [
    {
     "data": {
      "text/plain": [
       "100"
      ]
     },
     "execution_count": 97,
     "metadata": {},
     "output_type": "execute_result"
    }
   ],
   "source": [
    "# Fetch the Ethereum news articles\n",
    "ethereum_headlines = newsapi.get_everything(q='ethereum',\n",
    "                                            language=\"en\",\n",
    "                                            page_size=100,\n",
    "                                            sort_by=\"relevancy\")\n",
    "\n",
    "\n",
    "# Confirm output type of sentiment analyzer\n",
    "test_sentiment = analyzer.polarity_scores(ethereum_headlines['articles'][0]['content'])\n",
    "\n",
    "test_sentiment\n",
    "\n",
    "type(ethereum_headlines['articles'][0]['content'])\n",
    "\n",
    "len(ethereum_headlines['articles'])"
   ]
  },
  {
   "cell_type": "code",
   "execution_count": 105,
   "metadata": {},
   "outputs": [
    {
     "data": {
      "text/html": [
       "<div>\n",
       "<style scoped>\n",
       "    .dataframe tbody tr th:only-of-type {\n",
       "        vertical-align: middle;\n",
       "    }\n",
       "\n",
       "    .dataframe tbody tr th {\n",
       "        vertical-align: top;\n",
       "    }\n",
       "\n",
       "    .dataframe thead th {\n",
       "        text-align: right;\n",
       "    }\n",
       "</style>\n",
       "<table border=\"1\" class=\"dataframe\">\n",
       "  <thead>\n",
       "    <tr style=\"text-align: right;\">\n",
       "      <th></th>\n",
       "      <th>date</th>\n",
       "      <th>text</th>\n",
       "      <th>compound</th>\n",
       "      <th>positive</th>\n",
       "      <th>negative</th>\n",
       "      <th>neutral</th>\n",
       "    </tr>\n",
       "  </thead>\n",
       "  <tbody>\n",
       "    <tr>\n",
       "      <th>0</th>\n",
       "      <td>2020-09-10</td>\n",
       "      <td>Two alleged crypto traders in Singapore appare...</td>\n",
       "      <td>-0.6908</td>\n",
       "      <td>0.000</td>\n",
       "      <td>0.16</td>\n",
       "      <td>0.840</td>\n",
       "    </tr>\n",
       "    <tr>\n",
       "      <th>1</th>\n",
       "      <td>2020-09-08</td>\n",
       "      <td>By Alexis Akwagyiram, Tom Wilson\\r\\n* Monthly ...</td>\n",
       "      <td>0.0000</td>\n",
       "      <td>0.000</td>\n",
       "      <td>0.00</td>\n",
       "      <td>1.000</td>\n",
       "    </tr>\n",
       "    <tr>\n",
       "      <th>2</th>\n",
       "      <td>2020-08-23</td>\n",
       "      <td>“The COVID-19 pandemic has resulted in a mass ...</td>\n",
       "      <td>0.2732</td>\n",
       "      <td>0.063</td>\n",
       "      <td>0.00</td>\n",
       "      <td>0.937</td>\n",
       "    </tr>\n",
       "    <tr>\n",
       "      <th>3</th>\n",
       "      <td>2020-09-08</td>\n",
       "      <td>LAGOS/LONDON (Reuters) - Four months ago, Abol...</td>\n",
       "      <td>0.0000</td>\n",
       "      <td>0.000</td>\n",
       "      <td>0.00</td>\n",
       "      <td>1.000</td>\n",
       "    </tr>\n",
       "    <tr>\n",
       "      <th>4</th>\n",
       "      <td>2020-09-08</td>\n",
       "      <td>LAGOS/LONDON (Reuters) - Four months ago, Abol...</td>\n",
       "      <td>0.0000</td>\n",
       "      <td>0.000</td>\n",
       "      <td>0.00</td>\n",
       "      <td>1.000</td>\n",
       "    </tr>\n",
       "  </tbody>\n",
       "</table>\n",
       "</div>"
      ],
      "text/plain": [
       "         date                                               text  compound  \\\n",
       "0  2020-09-10  Two alleged crypto traders in Singapore appare...   -0.6908   \n",
       "1  2020-09-08  By Alexis Akwagyiram, Tom Wilson\\r\\n* Monthly ...    0.0000   \n",
       "2  2020-08-23  “The COVID-19 pandemic has resulted in a mass ...    0.2732   \n",
       "3  2020-09-08  LAGOS/LONDON (Reuters) - Four months ago, Abol...    0.0000   \n",
       "4  2020-09-08  LAGOS/LONDON (Reuters) - Four months ago, Abol...    0.0000   \n",
       "\n",
       "   positive  negative  neutral  \n",
       "0     0.000      0.16    0.840  \n",
       "1     0.000      0.00    1.000  \n",
       "2     0.063      0.00    0.937  \n",
       "3     0.000      0.00    1.000  \n",
       "4     0.000      0.00    1.000  "
      ]
     },
     "execution_count": 105,
     "metadata": {},
     "output_type": "execute_result"
    }
   ],
   "source": [
    "# Create the Bitcoin sentiment scores DataFrame\n",
    "\n",
    "bitcoin_sentiment = []\n",
    "\n",
    "for article in bitcoin_headlines[\"articles\"]:\n",
    "    \n",
    "    try:\n",
    "    \n",
    "        text = article[\"content\"]\n",
    "        date = article[\"publishedAt\"][:10]\n",
    "    \n",
    "        sentiment = analyzer.polarity_scores(text)\n",
    "    \n",
    "        compound = sentiment[\"compound\"]\n",
    "        positive = sentiment[\"pos\"]\n",
    "        negative = sentiment[\"neg\"]\n",
    "        neutral = sentiment[\"neu\"]\n",
    "\n",
    "\n",
    "        bitcoin_sentiment.append({\n",
    "            \"date\": date,\n",
    "            \"text\": text,\n",
    "            \"compound\": compound,\n",
    "            \"positive\": positive,\n",
    "            \"negative\": negative,\n",
    "            \"neutral\": neutral\n",
    "            })\n",
    "        \n",
    "    except AttributeError:\n",
    "        \n",
    "        pass\n",
    "\n",
    "type(bitcoin_sentiment[0]['text'])\n",
    "\n",
    "# I first tried to create the above function with out the 'try...except...pass' structure.  I kept getting the error\n",
    "# \"AttributeError: 'NoneType' object has no attribute 'encode'\".  What exactly does this mean?  Were some article \n",
    "# texts NoneTypes instead of strings?  In any case, the 'try' seemed to fix it.  (Used in class exercise.)\n",
    "\n",
    "\n",
    "bitcoin_sentiment\n",
    "\n",
    "bitcoin_df = pd.DataFrame(bitcoin_sentiment)\n",
    "\n",
    "columns = [\"date\", \"text\", \"compound\", \"positive\", \"negative\", \"neutral\"]\n",
    "\n",
    "# Rearrange columns\n",
    "bitcoin_df = bitcoin_df[columns]\n",
    "\n",
    "bitcoin_df.head()"
   ]
  },
  {
   "cell_type": "code",
   "execution_count": 107,
   "metadata": {},
   "outputs": [
    {
     "data": {
      "text/html": [
       "<div>\n",
       "<style scoped>\n",
       "    .dataframe tbody tr th:only-of-type {\n",
       "        vertical-align: middle;\n",
       "    }\n",
       "\n",
       "    .dataframe tbody tr th {\n",
       "        vertical-align: top;\n",
       "    }\n",
       "\n",
       "    .dataframe thead th {\n",
       "        text-align: right;\n",
       "    }\n",
       "</style>\n",
       "<table border=\"1\" class=\"dataframe\">\n",
       "  <thead>\n",
       "    <tr style=\"text-align: right;\">\n",
       "      <th></th>\n",
       "      <th>date</th>\n",
       "      <th>text</th>\n",
       "      <th>compound</th>\n",
       "      <th>positive</th>\n",
       "      <th>negative</th>\n",
       "      <th>neutral</th>\n",
       "    </tr>\n",
       "  </thead>\n",
       "  <tbody>\n",
       "    <tr>\n",
       "      <th>0</th>\n",
       "      <td>2020-09-02</td>\n",
       "      <td>If you've interacted with cryptocurrencies in ...</td>\n",
       "      <td>0.7506</td>\n",
       "      <td>0.209</td>\n",
       "      <td>0.0</td>\n",
       "      <td>0.791</td>\n",
       "    </tr>\n",
       "    <tr>\n",
       "      <th>1</th>\n",
       "      <td>2020-09-07</td>\n",
       "      <td>TL;DR: The Complete Stock and Cryptocurrency I...</td>\n",
       "      <td>0.0000</td>\n",
       "      <td>0.000</td>\n",
       "      <td>0.0</td>\n",
       "      <td>1.000</td>\n",
       "    </tr>\n",
       "    <tr>\n",
       "      <th>2</th>\n",
       "      <td>2020-09-18</td>\n",
       "      <td>September\\r\\n18, 2020\\r\\n6 min read\\r\\nOpinion...</td>\n",
       "      <td>0.0000</td>\n",
       "      <td>0.000</td>\n",
       "      <td>0.0</td>\n",
       "      <td>1.000</td>\n",
       "    </tr>\n",
       "    <tr>\n",
       "      <th>3</th>\n",
       "      <td>2020-08-26</td>\n",
       "      <td>LONDON (Reuters) - It sounds like a surefire b...</td>\n",
       "      <td>0.7579</td>\n",
       "      <td>0.181</td>\n",
       "      <td>0.0</td>\n",
       "      <td>0.819</td>\n",
       "    </tr>\n",
       "    <tr>\n",
       "      <th>4</th>\n",
       "      <td>2020-08-25</td>\n",
       "      <td>NEW YORK (Reuters) - Brooklyn-based technology...</td>\n",
       "      <td>0.0000</td>\n",
       "      <td>0.000</td>\n",
       "      <td>0.0</td>\n",
       "      <td>1.000</td>\n",
       "    </tr>\n",
       "  </tbody>\n",
       "</table>\n",
       "</div>"
      ],
      "text/plain": [
       "         date                                               text  compound  \\\n",
       "0  2020-09-02  If you've interacted with cryptocurrencies in ...    0.7506   \n",
       "1  2020-09-07  TL;DR: The Complete Stock and Cryptocurrency I...    0.0000   \n",
       "2  2020-09-18  September\\r\\n18, 2020\\r\\n6 min read\\r\\nOpinion...    0.0000   \n",
       "3  2020-08-26  LONDON (Reuters) - It sounds like a surefire b...    0.7579   \n",
       "4  2020-08-25  NEW YORK (Reuters) - Brooklyn-based technology...    0.0000   \n",
       "\n",
       "   positive  negative  neutral  \n",
       "0     0.209       0.0    0.791  \n",
       "1     0.000       0.0    1.000  \n",
       "2     0.000       0.0    1.000  \n",
       "3     0.181       0.0    0.819  \n",
       "4     0.000       0.0    1.000  "
      ]
     },
     "execution_count": 107,
     "metadata": {},
     "output_type": "execute_result"
    }
   ],
   "source": [
    "# Create the ethereum sentiment scores DataFrame\n",
    "\n",
    "ethereum_sentiment = []\n",
    "\n",
    "for article in ethereum_headlines[\"articles\"]:\n",
    "    \n",
    "    try:\n",
    "    \n",
    "        text = article[\"content\"]\n",
    "        date = article[\"publishedAt\"][:10]\n",
    "    \n",
    "        sentiment = analyzer.polarity_scores(text)\n",
    "    \n",
    "        compound = sentiment[\"compound\"]\n",
    "        positive = sentiment[\"pos\"]\n",
    "        negative = sentiment[\"neg\"]\n",
    "        neutral = sentiment[\"neu\"]\n",
    "\n",
    "\n",
    "        ethereum_sentiment.append({\n",
    "            \"date\": date,\n",
    "            \"text\": text,\n",
    "            \"compound\": compound,\n",
    "            \"positive\": positive,\n",
    "            \"negative\": negative,\n",
    "            \"neutral\": neutral\n",
    "            })\n",
    "        \n",
    "    except AttributeError:\n",
    "        \n",
    "        pass\n",
    "\n",
    "type(ethereum_sentiment[0]['text'])\n",
    "\n",
    "\n",
    "ethereum_sentiment\n",
    "\n",
    "ethereum_df = pd.DataFrame(ethereum_sentiment)\n",
    "\n",
    "\n",
    "# Rearrange columns\n",
    "\n",
    "columns = [\"date\", \"text\", \"compound\", \"positive\", \"negative\", \"neutral\"]\n",
    "ethereum_df = ethereum_df[columns]\n",
    "\n",
    "ethereum_df.head()\n"
   ]
  },
  {
   "cell_type": "code",
   "execution_count": 94,
   "metadata": {},
   "outputs": [
    {
     "data": {
      "text/html": [
       "<div>\n",
       "<style scoped>\n",
       "    .dataframe tbody tr th:only-of-type {\n",
       "        vertical-align: middle;\n",
       "    }\n",
       "\n",
       "    .dataframe tbody tr th {\n",
       "        vertical-align: top;\n",
       "    }\n",
       "\n",
       "    .dataframe thead th {\n",
       "        text-align: right;\n",
       "    }\n",
       "</style>\n",
       "<table border=\"1\" class=\"dataframe\">\n",
       "  <thead>\n",
       "    <tr style=\"text-align: right;\">\n",
       "      <th></th>\n",
       "      <th>compound</th>\n",
       "      <th>positive</th>\n",
       "      <th>negative</th>\n",
       "      <th>neutral</th>\n",
       "    </tr>\n",
       "  </thead>\n",
       "  <tbody>\n",
       "    <tr>\n",
       "      <th>count</th>\n",
       "      <td>95.000000</td>\n",
       "      <td>95.000000</td>\n",
       "      <td>95.000000</td>\n",
       "      <td>95.000000</td>\n",
       "    </tr>\n",
       "    <tr>\n",
       "      <th>mean</th>\n",
       "      <td>0.161913</td>\n",
       "      <td>0.079758</td>\n",
       "      <td>0.042032</td>\n",
       "      <td>0.878200</td>\n",
       "    </tr>\n",
       "    <tr>\n",
       "      <th>std</th>\n",
       "      <td>0.476811</td>\n",
       "      <td>0.069281</td>\n",
       "      <td>0.070663</td>\n",
       "      <td>0.090157</td>\n",
       "    </tr>\n",
       "    <tr>\n",
       "      <th>min</th>\n",
       "      <td>-0.886000</td>\n",
       "      <td>0.000000</td>\n",
       "      <td>0.000000</td>\n",
       "      <td>0.588000</td>\n",
       "    </tr>\n",
       "    <tr>\n",
       "      <th>25%</th>\n",
       "      <td>0.000000</td>\n",
       "      <td>0.014000</td>\n",
       "      <td>0.000000</td>\n",
       "      <td>0.827500</td>\n",
       "    </tr>\n",
       "    <tr>\n",
       "      <th>50%</th>\n",
       "      <td>0.273200</td>\n",
       "      <td>0.086000</td>\n",
       "      <td>0.000000</td>\n",
       "      <td>0.910000</td>\n",
       "    </tr>\n",
       "    <tr>\n",
       "      <th>75%</th>\n",
       "      <td>0.507000</td>\n",
       "      <td>0.107000</td>\n",
       "      <td>0.088500</td>\n",
       "      <td>0.919500</td>\n",
       "    </tr>\n",
       "    <tr>\n",
       "      <th>max</th>\n",
       "      <td>0.923100</td>\n",
       "      <td>0.326000</td>\n",
       "      <td>0.303000</td>\n",
       "      <td>1.000000</td>\n",
       "    </tr>\n",
       "  </tbody>\n",
       "</table>\n",
       "</div>"
      ],
      "text/plain": [
       "        compound   positive   negative    neutral\n",
       "count  95.000000  95.000000  95.000000  95.000000\n",
       "mean    0.161913   0.079758   0.042032   0.878200\n",
       "std     0.476811   0.069281   0.070663   0.090157\n",
       "min    -0.886000   0.000000   0.000000   0.588000\n",
       "25%     0.000000   0.014000   0.000000   0.827500\n",
       "50%     0.273200   0.086000   0.000000   0.910000\n",
       "75%     0.507000   0.107000   0.088500   0.919500\n",
       "max     0.923100   0.326000   0.303000   1.000000"
      ]
     },
     "execution_count": 94,
     "metadata": {},
     "output_type": "execute_result"
    }
   ],
   "source": [
    "# Describe the Bitcoin Sentiment\n",
    "bitcoin_df.describe()"
   ]
  },
  {
   "cell_type": "code",
   "execution_count": 96,
   "metadata": {},
   "outputs": [
    {
     "data": {
      "text/html": [
       "<div>\n",
       "<style scoped>\n",
       "    .dataframe tbody tr th:only-of-type {\n",
       "        vertical-align: middle;\n",
       "    }\n",
       "\n",
       "    .dataframe tbody tr th {\n",
       "        vertical-align: top;\n",
       "    }\n",
       "\n",
       "    .dataframe thead th {\n",
       "        text-align: right;\n",
       "    }\n",
       "</style>\n",
       "<table border=\"1\" class=\"dataframe\">\n",
       "  <thead>\n",
       "    <tr style=\"text-align: right;\">\n",
       "      <th></th>\n",
       "      <th>compound</th>\n",
       "      <th>positive</th>\n",
       "      <th>negative</th>\n",
       "      <th>neutral</th>\n",
       "    </tr>\n",
       "  </thead>\n",
       "  <tbody>\n",
       "    <tr>\n",
       "      <th>count</th>\n",
       "      <td>95.000000</td>\n",
       "      <td>95.000000</td>\n",
       "      <td>95.000000</td>\n",
       "      <td>95.000000</td>\n",
       "    </tr>\n",
       "    <tr>\n",
       "      <th>mean</th>\n",
       "      <td>0.145749</td>\n",
       "      <td>0.070958</td>\n",
       "      <td>0.036653</td>\n",
       "      <td>0.892389</td>\n",
       "    </tr>\n",
       "    <tr>\n",
       "      <th>std</th>\n",
       "      <td>0.408610</td>\n",
       "      <td>0.069543</td>\n",
       "      <td>0.067799</td>\n",
       "      <td>0.088831</td>\n",
       "    </tr>\n",
       "    <tr>\n",
       "      <th>min</th>\n",
       "      <td>-0.910000</td>\n",
       "      <td>0.000000</td>\n",
       "      <td>0.000000</td>\n",
       "      <td>0.607000</td>\n",
       "    </tr>\n",
       "    <tr>\n",
       "      <th>25%</th>\n",
       "      <td>0.000000</td>\n",
       "      <td>0.000000</td>\n",
       "      <td>0.000000</td>\n",
       "      <td>0.839500</td>\n",
       "    </tr>\n",
       "    <tr>\n",
       "      <th>50%</th>\n",
       "      <td>0.102700</td>\n",
       "      <td>0.075000</td>\n",
       "      <td>0.000000</td>\n",
       "      <td>0.905000</td>\n",
       "    </tr>\n",
       "    <tr>\n",
       "      <th>75%</th>\n",
       "      <td>0.471800</td>\n",
       "      <td>0.110500</td>\n",
       "      <td>0.060500</td>\n",
       "      <td>0.963000</td>\n",
       "    </tr>\n",
       "    <tr>\n",
       "      <th>max</th>\n",
       "      <td>0.851900</td>\n",
       "      <td>0.311000</td>\n",
       "      <td>0.347000</td>\n",
       "      <td>1.000000</td>\n",
       "    </tr>\n",
       "  </tbody>\n",
       "</table>\n",
       "</div>"
      ],
      "text/plain": [
       "        compound   positive   negative    neutral\n",
       "count  95.000000  95.000000  95.000000  95.000000\n",
       "mean    0.145749   0.070958   0.036653   0.892389\n",
       "std     0.408610   0.069543   0.067799   0.088831\n",
       "min    -0.910000   0.000000   0.000000   0.607000\n",
       "25%     0.000000   0.000000   0.000000   0.839500\n",
       "50%     0.102700   0.075000   0.000000   0.905000\n",
       "75%     0.471800   0.110500   0.060500   0.963000\n",
       "max     0.851900   0.311000   0.347000   1.000000"
      ]
     },
     "execution_count": 96,
     "metadata": {},
     "output_type": "execute_result"
    }
   ],
   "source": [
    "# Describe the Ethereum Sentiment\n",
    "ethereum_df.describe()"
   ]
  },
  {
   "cell_type": "markdown",
   "metadata": {},
   "source": [
    "### Questions:\n",
    "\n",
    "Q: Which coin had the highest mean positive score?\n",
    "\n",
    "A: \n",
    "\n",
    "Q: Which coin had the highest compound score?\n",
    "\n",
    "A: \n",
    "\n",
    "Q. Which coin had the highest positive score?\n",
    "\n",
    "A: "
   ]
  },
  {
   "cell_type": "markdown",
   "metadata": {},
   "source": [
    "---"
   ]
  },
  {
   "cell_type": "markdown",
   "metadata": {},
   "source": [
    "# Tokenizer\n",
    "\n",
    "In this section, you will use NLTK and Python to tokenize the text for each coin. Be sure to:\n",
    "1. Lowercase each word\n",
    "2. Remove Punctuation\n",
    "3. Remove Stopwords"
   ]
  },
  {
   "cell_type": "code",
   "execution_count": 119,
   "metadata": {},
   "outputs": [],
   "source": [
    "from nltk.tokenize import word_tokenize, sent_tokenize\n",
    "from nltk.corpus import stopwords\n",
    "from nltk.stem import WordNetLemmatizer, PorterStemmer\n",
    "from string import punctuation\n",
    "import re\n",
    "\n",
    "lemmatizer = WordNetLemmatizer()"
   ]
  },
  {
   "cell_type": "code",
   "execution_count": 115,
   "metadata": {},
   "outputs": [
    {
     "name": "stdout",
     "output_type": "stream",
     "text": [
      "Help on function word_tokenize in module nltk.tokenize:\n",
      "\n",
      "word_tokenize(text, language='english', preserve_line=False)\n",
      "    Return a tokenized copy of *text*,\n",
      "    using NLTK's recommended word tokenizer\n",
      "    (currently an improved :class:`.TreebankWordTokenizer`\n",
      "    along with :class:`.PunktSentenceTokenizer`\n",
      "    for the specified language).\n",
      "    \n",
      "    :param text: text to split into words\n",
      "    :type text: str\n",
      "    :param language: the model name in the Punkt corpus\n",
      "    :type language: str\n",
      "    :param preserve_line: An option to keep the preserve the sentence and not sentence tokenize it.\n",
      "    :type preserve_line: bool\n",
      "\n"
     ]
    }
   ],
   "source": [
    "# Expand the default stopwords list if necessary\n",
    "\n",
    "type(ethereum_df['text'])\n",
    "ethereum_df.dtypes\n",
    "\n",
    "help(word_tokenize)"
   ]
  },
  {
   "cell_type": "code",
   "execution_count": 128,
   "metadata": {},
   "outputs": [
    {
     "data": {
      "text/plain": [
       "['youve',\n",
       " 'interacted',\n",
       " 'cryptocurrencies',\n",
       " 'past',\n",
       " 'couple',\n",
       " 'year',\n",
       " 'good',\n",
       " 'chance',\n",
       " 'youve',\n",
       " 'used',\n",
       " 'metamask',\n",
       " 'cryptocurrency',\n",
       " 'wallet',\n",
       " 'form',\n",
       " 'browser',\n",
       " 'extension',\n",
       " 'support',\n",
       " 'ether',\n",
       " 'char']"
      ]
     },
     "execution_count": 128,
     "metadata": {},
     "output_type": "execute_result"
    }
   ],
   "source": [
    "# Complete the tokenizer function\n",
    "def tokenizer(text):\n",
    "    \"\"\"Tokenizes text.\"\"\"       \n",
    "    \n",
    "    # Remove the punctuation\n",
    "    regex = re.compile(\"[^a-zA-Z ]\")\n",
    "    re_clean = regex.sub('', text)\n",
    "    \n",
    "    # Create a list of the words\n",
    "    words = word_tokenize(re_clean)\n",
    "    \n",
    "    # Lemmatize Words into root words\n",
    "    lem = [lemmatizer.lemmatize(word) for word in words]\n",
    "    \n",
    "    # Remove the stop words\n",
    "    # Convert the words to lowercase\n",
    "    sw = set(stopwords.words('english'))\n",
    "    tokens = [word.lower() for word in lem if word.lower() not in sw]\n",
    "        \n",
    "    return tokens\n",
    "\n",
    "\n",
    "# Tested function on simple text\n",
    "# hello = \"Hello!  My name is Andrew.  What is yours?\"\n",
    "# tokenizer(hello)\n",
    "\n",
    "# Tested on one ethereum article\n",
    "tokenizer(ethereum_df['text'][0])"
   ]
  },
  {
   "cell_type": "code",
   "execution_count": 135,
   "metadata": {},
   "outputs": [
    {
     "data": {
      "text/html": [
       "<div>\n",
       "<style scoped>\n",
       "    .dataframe tbody tr th:only-of-type {\n",
       "        vertical-align: middle;\n",
       "    }\n",
       "\n",
       "    .dataframe tbody tr th {\n",
       "        vertical-align: top;\n",
       "    }\n",
       "\n",
       "    .dataframe thead th {\n",
       "        text-align: right;\n",
       "    }\n",
       "</style>\n",
       "<table border=\"1\" class=\"dataframe\">\n",
       "  <thead>\n",
       "    <tr style=\"text-align: right;\">\n",
       "      <th></th>\n",
       "      <th>date</th>\n",
       "      <th>compound</th>\n",
       "      <th>positive</th>\n",
       "      <th>negative</th>\n",
       "      <th>neutral</th>\n",
       "      <th>text</th>\n",
       "      <th>tokens</th>\n",
       "    </tr>\n",
       "  </thead>\n",
       "  <tbody>\n",
       "    <tr>\n",
       "      <th>0</th>\n",
       "      <td>2020-09-10</td>\n",
       "      <td>-0.6908</td>\n",
       "      <td>0.000</td>\n",
       "      <td>0.16</td>\n",
       "      <td>0.840</td>\n",
       "      <td>Two alleged crypto traders in Singapore appare...</td>\n",
       "      <td>[two, alleged, crypto, trader, singapore, appa...</td>\n",
       "    </tr>\n",
       "    <tr>\n",
       "      <th>1</th>\n",
       "      <td>2020-09-08</td>\n",
       "      <td>0.0000</td>\n",
       "      <td>0.000</td>\n",
       "      <td>0.00</td>\n",
       "      <td>1.000</td>\n",
       "      <td>By Alexis Akwagyiram, Tom Wilson\\r\\n* Monthly ...</td>\n",
       "      <td>[alexis, akwagyiram, tom, wilson, monthly, cry...</td>\n",
       "    </tr>\n",
       "    <tr>\n",
       "      <th>2</th>\n",
       "      <td>2020-08-23</td>\n",
       "      <td>0.2732</td>\n",
       "      <td>0.063</td>\n",
       "      <td>0.00</td>\n",
       "      <td>0.937</td>\n",
       "      <td>“The COVID-19 pandemic has resulted in a mass ...</td>\n",
       "      <td>[covid, pandemic, ha, resulted, mass, shift, w...</td>\n",
       "    </tr>\n",
       "    <tr>\n",
       "      <th>3</th>\n",
       "      <td>2020-09-08</td>\n",
       "      <td>0.0000</td>\n",
       "      <td>0.000</td>\n",
       "      <td>0.00</td>\n",
       "      <td>1.000</td>\n",
       "      <td>LAGOS/LONDON (Reuters) - Four months ago, Abol...</td>\n",
       "      <td>[lagoslondon, reuters, four, month, ago, abola...</td>\n",
       "    </tr>\n",
       "    <tr>\n",
       "      <th>4</th>\n",
       "      <td>2020-09-08</td>\n",
       "      <td>0.0000</td>\n",
       "      <td>0.000</td>\n",
       "      <td>0.00</td>\n",
       "      <td>1.000</td>\n",
       "      <td>LAGOS/LONDON (Reuters) - Four months ago, Abol...</td>\n",
       "      <td>[lagoslondon, reuters, four, month, ago, abola...</td>\n",
       "    </tr>\n",
       "  </tbody>\n",
       "</table>\n",
       "</div>"
      ],
      "text/plain": [
       "         date  compound  positive  negative  neutral  \\\n",
       "0  2020-09-10   -0.6908     0.000      0.16    0.840   \n",
       "1  2020-09-08    0.0000     0.000      0.00    1.000   \n",
       "2  2020-08-23    0.2732     0.063      0.00    0.937   \n",
       "3  2020-09-08    0.0000     0.000      0.00    1.000   \n",
       "4  2020-09-08    0.0000     0.000      0.00    1.000   \n",
       "\n",
       "                                                text  \\\n",
       "0  Two alleged crypto traders in Singapore appare...   \n",
       "1  By Alexis Akwagyiram, Tom Wilson\\r\\n* Monthly ...   \n",
       "2  “The COVID-19 pandemic has resulted in a mass ...   \n",
       "3  LAGOS/LONDON (Reuters) - Four months ago, Abol...   \n",
       "4  LAGOS/LONDON (Reuters) - Four months ago, Abol...   \n",
       "\n",
       "                                              tokens  \n",
       "0  [two, alleged, crypto, trader, singapore, appa...  \n",
       "1  [alexis, akwagyiram, tom, wilson, monthly, cry...  \n",
       "2  [covid, pandemic, ha, resulted, mass, shift, w...  \n",
       "3  [lagoslondon, reuters, four, month, ago, abola...  \n",
       "4  [lagoslondon, reuters, four, month, ago, abola...  "
      ]
     },
     "execution_count": 135,
     "metadata": {},
     "output_type": "execute_result"
    }
   ],
   "source": [
    "# Create a new tokens column for bitcoin\n",
    "\n",
    "bitcoin_df['tokens'] = [tokenizer(text) for text in bitcoin_df['text']]\n",
    "\n",
    "\n",
    "# Rearrange columns\n",
    "\n",
    "columns = [\"date\", \"compound\", \"positive\", \"negative\", \"neutral\", \"text\", \"tokens\"]\n",
    "bitcoin_df = bitcoin_df[columns]\n",
    "\n",
    "bitcoin_df.head()"
   ]
  },
  {
   "cell_type": "code",
   "execution_count": 136,
   "metadata": {},
   "outputs": [
    {
     "data": {
      "text/html": [
       "<div>\n",
       "<style scoped>\n",
       "    .dataframe tbody tr th:only-of-type {\n",
       "        vertical-align: middle;\n",
       "    }\n",
       "\n",
       "    .dataframe tbody tr th {\n",
       "        vertical-align: top;\n",
       "    }\n",
       "\n",
       "    .dataframe thead th {\n",
       "        text-align: right;\n",
       "    }\n",
       "</style>\n",
       "<table border=\"1\" class=\"dataframe\">\n",
       "  <thead>\n",
       "    <tr style=\"text-align: right;\">\n",
       "      <th></th>\n",
       "      <th>date</th>\n",
       "      <th>compound</th>\n",
       "      <th>positive</th>\n",
       "      <th>negative</th>\n",
       "      <th>neutral</th>\n",
       "      <th>text</th>\n",
       "      <th>tokens</th>\n",
       "    </tr>\n",
       "  </thead>\n",
       "  <tbody>\n",
       "    <tr>\n",
       "      <th>0</th>\n",
       "      <td>2020-09-02</td>\n",
       "      <td>0.7506</td>\n",
       "      <td>0.209</td>\n",
       "      <td>0.0</td>\n",
       "      <td>0.791</td>\n",
       "      <td>If you've interacted with cryptocurrencies in ...</td>\n",
       "      <td>[youve, interacted, cryptocurrencies, past, co...</td>\n",
       "    </tr>\n",
       "    <tr>\n",
       "      <th>1</th>\n",
       "      <td>2020-09-07</td>\n",
       "      <td>0.0000</td>\n",
       "      <td>0.000</td>\n",
       "      <td>0.0</td>\n",
       "      <td>1.000</td>\n",
       "      <td>TL;DR: The Complete Stock and Cryptocurrency I...</td>\n",
       "      <td>[tldr, complete, stock, cryptocurrency, invest...</td>\n",
       "    </tr>\n",
       "    <tr>\n",
       "      <th>2</th>\n",
       "      <td>2020-09-18</td>\n",
       "      <td>0.0000</td>\n",
       "      <td>0.000</td>\n",
       "      <td>0.0</td>\n",
       "      <td>1.000</td>\n",
       "      <td>September\\r\\n18, 2020\\r\\n6 min read\\r\\nOpinion...</td>\n",
       "      <td>[september, min, readopinions, expressed, entr...</td>\n",
       "    </tr>\n",
       "    <tr>\n",
       "      <th>3</th>\n",
       "      <td>2020-08-26</td>\n",
       "      <td>0.7579</td>\n",
       "      <td>0.181</td>\n",
       "      <td>0.0</td>\n",
       "      <td>0.819</td>\n",
       "      <td>LONDON (Reuters) - It sounds like a surefire b...</td>\n",
       "      <td>[london, reuters, sound, like, surefire, bet, ...</td>\n",
       "    </tr>\n",
       "    <tr>\n",
       "      <th>4</th>\n",
       "      <td>2020-08-25</td>\n",
       "      <td>0.0000</td>\n",
       "      <td>0.000</td>\n",
       "      <td>0.0</td>\n",
       "      <td>1.000</td>\n",
       "      <td>NEW YORK (Reuters) - Brooklyn-based technology...</td>\n",
       "      <td>[new, york, reuters, brooklynbased, technology...</td>\n",
       "    </tr>\n",
       "  </tbody>\n",
       "</table>\n",
       "</div>"
      ],
      "text/plain": [
       "         date  compound  positive  negative  neutral  \\\n",
       "0  2020-09-02    0.7506     0.209       0.0    0.791   \n",
       "1  2020-09-07    0.0000     0.000       0.0    1.000   \n",
       "2  2020-09-18    0.0000     0.000       0.0    1.000   \n",
       "3  2020-08-26    0.7579     0.181       0.0    0.819   \n",
       "4  2020-08-25    0.0000     0.000       0.0    1.000   \n",
       "\n",
       "                                                text  \\\n",
       "0  If you've interacted with cryptocurrencies in ...   \n",
       "1  TL;DR: The Complete Stock and Cryptocurrency I...   \n",
       "2  September\\r\\n18, 2020\\r\\n6 min read\\r\\nOpinion...   \n",
       "3  LONDON (Reuters) - It sounds like a surefire b...   \n",
       "4  NEW YORK (Reuters) - Brooklyn-based technology...   \n",
       "\n",
       "                                              tokens  \n",
       "0  [youve, interacted, cryptocurrencies, past, co...  \n",
       "1  [tldr, complete, stock, cryptocurrency, invest...  \n",
       "2  [september, min, readopinions, expressed, entr...  \n",
       "3  [london, reuters, sound, like, surefire, bet, ...  \n",
       "4  [new, york, reuters, brooklynbased, technology...  "
      ]
     },
     "execution_count": 136,
     "metadata": {},
     "output_type": "execute_result"
    }
   ],
   "source": [
    "# Create a new tokens column for ethereum\n",
    "\n",
    "ethereum_df['tokens'] = [tokenizer(text) for text in ethereum_df['text']]\n",
    "\n",
    "\n",
    "# Rearrange columns\n",
    "\n",
    "columns = [\"date\", \"compound\", \"positive\", \"negative\", \"neutral\", \"text\", \"tokens\"]\n",
    "ethereum_df = ethereum_df[columns]\n",
    "\n",
    "ethereum_df.head()"
   ]
  },
  {
   "cell_type": "markdown",
   "metadata": {},
   "source": [
    "---"
   ]
  },
  {
   "cell_type": "markdown",
   "metadata": {},
   "source": [
    "# NGrams and Frequency Analysis\n",
    "\n",
    "In this section you will look at the ngrams and word frequency for each coin. \n",
    "\n",
    "1. Use NLTK to produce the n-grams for N = 2. \n",
    "2. List the top 10 words for each coin. "
   ]
  },
  {
   "cell_type": "code",
   "execution_count": 137,
   "metadata": {},
   "outputs": [],
   "source": [
    "from collections import Counter\n",
    "from nltk import ngrams"
   ]
  },
  {
   "cell_type": "code",
   "execution_count": 160,
   "metadata": {},
   "outputs": [
    {
     "name": "stdout",
     "output_type": "stream",
     "text": [
      "{('two', 'alleged'): 1, ('alleged', 'crypto'): 1, ('crypto', 'trader'): 1, ('trader', 'singapore'): 1, ('singapore', 'apparently'): 1, ('apparently', 'came'): 1, ('came', 'foolproof'): 1, ('foolproof', 'plan'): 1, ('plan', 'rather'): 1, ('rather', 'convert'): 1, ('convert', 'customer'): 1, ('customer', 'singapore'): 1, ('singapore', 'dollar'): 1, ('dollar', 'bitcoin'): 1, ('bitcoin', 'would'): 1, ('would', 'simply'): 1, ('simply', 'rob'): 1, ('rob', 'victim'): 1, ('victim', 'came'): 1, ('came', 'char'): 1, ('char', 'alexis'): 1, ('alexis', 'akwagyiram'): 1, ('akwagyiram', 'tom'): 1, ('tom', 'wilson'): 1, ('wilson', 'monthly'): 1, ('monthly', 'crypto'): 1, ('crypto', 'transfer'): 1, ('transfer', 'africa'): 1, ('africa', 'rise'): 1, ('rise', 'year'): 1, ('year', 'much'): 1, ('much', 'activity'): 1, ('activity', 'nigeria'): 1, ('nigeria', 'south'): 1, ('south', 'africa'): 1, ('africa', 'kenya'): 1, ('kenya', 'driven'): 1, ('driven', 'small'): 1, ('small', 'business'): 1, ('business', 'migrant'): 1, ('migrant', 'char'): 1, ('char', 'covid'): 1, ('covid', 'pandemic'): 2, ('pandemic', 'ha'): 2, ('ha', 'resulted'): 1, ('resulted', 'mass'): 1, ('mass', 'shift'): 1, ('shift', 'working'): 1, ('working', 'home'): 1, ('home', 'resulting'): 1, ('resulting', 'increased'): 1, ('increased', 'use'): 1, ('use', 'corporate'): 1, ('corporate', 'vpn'): 1, ('vpn', 'elimination'): 1, ('elimination', 'inperson'): 1, ('inperson', 'verification'): 1, ('verification', 'partially'): 1, ('partially', 'explain'): 1, ('explain', 'succes'): 1, ('succes', 'char'): 1, ('char', 'lagoslondon'): 2, ('lagoslondon', 'reuters'): 2, ('reuters', 'four'): 2, ('four', 'month'): 2, ('month', 'ago'): 2, ('ago', 'abolaji'): 2, ('abolaji', 'odunjo'): 2, ('odunjo', 'made'): 2, ('made', 'fundamental'): 2, ('fundamental', 'change'): 2, ('change', 'business'): 2, ('business', 'selling'): 2, ('selling', 'mobile'): 2, ('mobile', 'phone'): 2, ('phone', 'bustling'): 2, ('bustling', 'street'): 2, ('street', 'market'): 2, ('market', 'lagos'): 2, ('lagos', 'started'): 2, ('started', 'paying'): 2, ('paying', 'supplier'): 2, ('supplier', 'bitco'): 2, ('bitco', 'char'): 2, ('char', 'robot'): 20, ('robot', 'colleague'): 20, ('colleague', 'satoshi'): 20, ('satoshi', 'nakaboto'): 40, ('nakaboto', 'writes'): 20, ('writes', 'bitcoin'): 20, ('bitcoin', 'btc'): 17, ('btc', 'every'): 17, ('every', 'fucking'): 20, ('fucking', 'daywelcome'): 20, ('daywelcome', 'another'): 20, ('another', 'edition'): 20, ('edition', 'bitcoin'): 20, ('bitcoin', 'today'): 20, ('today', 'satoshi'): 20, ('nakaboto', 'tell'): 20, ('tell', 'whats'): 20, ('whats', 'going'): 20, ('going', 'bitcoin'): 20, ('bitcoin', 'char'): 21, ('bitcoin', 'every'): 3, ('char', 'ftx'): 1, ('ftx', 'cryptocurrency'): 1, ('cryptocurrency', 'exchange'): 1, ('exchange', 'offer'): 1, ('offer', 'derivative'): 1, ('derivative', 'option'): 1, ('option', 'sophisticated'): 1, ('sophisticated', 'product'): 1, ('product', 'acquiring'): 1, ('acquiring', 'popular'): 1, ('popular', 'portfolio'): 1, ('portfolio', 'tracking'): 1, ('tracking', 'app'): 1, ('app', 'blockfolioftx'): 1, ('blockfolioftx', 'spending'): 1, ('spending', 'million'): 1, ('million', 'acqu'): 1, ('acqu', 'char'): 1, ('char', 'tldr'): 1, ('tldr', 'complete'): 1, ('complete', 'stock'): 1, ('stock', 'cryptocurrency'): 1, ('cryptocurrency', 'investment'): 1, ('investment', 'toolkit'): 1, ('toolkit', 'bundle'): 1, ('bundle', 'sale'): 1, ('sale', 'sept'): 1, ('sept', 'saving'): 1, ('saving', 'list'): 1, ('list', 'pricethe'): 1, ('pricethe', 'world'): 1, ('world', 'finance'): 1, ('finance', 'ha'): 1, ('ha', 'always'): 1, ('always', 'complicated'): 1, ('complicated', 'th'): 1, ('th', 'char'): 2, ('char', 'september'): 1, ('september', 'min'): 1, ('min', 'readopinions'): 1, ('readopinions', 'expressed'): 1, ('expressed', 'entrepreneur'): 1, ('entrepreneur', 'contributor'): 1, ('contributor', 'ownfounded'): 1, ('ownfounded', 'five'): 1, ('five', 'year'): 1, ('year', 'ago'): 1, ('ago', 'ethereum'): 1, ('ethereum', 'platform'): 1, ('platform', 'native'): 1, ('native', 'ether'): 1, ('ether', 'ethhave'): 1, ('ethhave', 'existed'): 1, ('existed', 'mostly'): 1, ('mostly', 'char'): 1, ('char', 'gold'): 1, ('gold', 'oil'): 1, ('oil', 'historically'): 1, ('historically', 'reliable'): 1, ('reliable', 'store'): 1, ('store', 'value'): 1, ('value', 'scarce'): 1, ('scarce', 'commodity'): 1, ('commodity', 'make'): 1, ('make', 'dependable'): 1, ('dependable', 'hedge'): 1, ('hedge', 'inflation'): 1, ('inflation', 'fiat'): 1, ('fiat', 'currency'): 1, ('currency', 'result'): 1, ('result', 'commanded'): 1, ('commanded', 'pr'): 1, ('pr', 'char'): 1, ('char', 'canton'): 1, ('canton', 'bill'): 1, ('bill', 'home'): 1, ('home', 'crypto'): 1, ('crypto', 'valley'): 1, ('valley', 'said'): 1, ('said', 'would'): 1, ('would', 'accept'): 1, ('accept', 'tax'): 1, ('tax', 'company'): 1, ('company', 'individual'): 1, ('individual', 'swiss'): 1, ('swiss', 'franc'): 1, ('franc', 'paid'): 1, ('paid', 'bitcoin'): 1, ('bitcoin', 'ether'): 1, ('ether', 'fe'): 1, ('fe', 'char'): 1, ('char', 'exuber'): 1, ('exuber', 'exec'): 1, ('exec', 'joe'): 1, ('joe', 'sullivan'): 1, ('sullivan', 'coverup'): 1, ('coverup', 'wasnt'): 1, ('wasnt', 'worse'): 1, ('worse', 'crime'): 1, ('crime', 'wa'): 1, ('wa', 'crimeor'): 1, ('crimeor', 'least'): 1, ('least', 'alleges'): 1, ('alleges', 'us'): 1, ('us', 'government'): 4, ('government', 'united'): 1, ('united', 'states'): 2, ('states', 'district'): 1, ('district', 'court'): 1, ('court', 'northern'): 1, ('northern', 'district'): 1, ('district', 'char'): 1, ('char', 'ceo'): 1, ('ceo', 'elon'): 1, ('elon', 'musk'): 2, ('musk', 'called'): 1, ('called', 'thwarted'): 1, ('thwarted', 'cyberattack'): 1, ('cyberattack', 'tesla'): 1, ('tesla', 'serious'): 1, ('serious', 'thursday'): 1, ('thursday', 'russian'): 1, ('russian', 'national'): 2, ('national', 'reportedly'): 1, ('reportedly', 'tried'): 1, ('tried', 'recruit'): 1, ('recruit', 'bribe'): 1, ('bribe', 'employee'): 1, ('employee', 'install'): 1, ('install', 'ransomware'): 1, ('ransomware', 'company'): 1, ('company', 'network'): 1, ('network', 'char'): 1, ('char', 'almaty'): 1, ('almaty', 'sept'): 1, ('sept', 'reuters'): 2, ('reuters', 'kazakhstan'): 1, ('kazakhstan', 'talk'): 1, ('talk', 'attract'): 1, ('attract', 'investment'): 1, ('investment', 'worth'): 1, ('worth', 'billion'): 1, ('billion', 'tenge'): 1, ('tenge', 'million'): 1, ('million', 'cryptocurrency'): 1, ('cryptocurrency', 'sector'): 1, ('sector', 'digital'): 1, ('digital', 'development'): 1, ('development', 'minister'): 1, ('minister', 'bagdat'): 1, ('bagdat', 'mussin'): 1, ('mussin', 'said'): 1, ('said', 'wedn'): 1, ('wedn', 'char'): 1, ('char', 'bangkok'): 1, ('bangkok', 'reuters'): 1, ('reuters', 'hospitals'): 1, ('hospitals', 'company'): 1, ('company', 'thailand'): 1, ('thailand', 'hit'): 1, ('hit', 'hacker'): 1, ('hacker', 'held'): 1, ('held', 'computer'): 1, ('computer', 'system'): 1, ('system', 'data'): 1, ('data', 'ransom'): 1, ('ransom', 'demanding'): 1, ('demanding', 'payment'): 1, ('payment', 'restore'): 1, ('restore', 'information'): 1, ('information', 'police'): 1, ('police', 'said'): 1, ('said', 'thursday'): 1, ('thursday', 'gove'): 1, ('gove', 'char'): 1, ('char', 'reuters'): 5, ('reuters', 'stafffile'): 2, ('stafffile', 'photo'): 2, ('photo', 'logo'): 1, ('logo', 'binance'): 1, ('binance', 'seen'): 1, ('seen', 'exhibition'): 1, ('exhibition', 'stand'): 1, ('stand', 'delta'): 1, ('delta', 'summit'): 1, ('summit', 'maltas'): 1, ('maltas', 'official'): 1, ('official', 'blockchain'): 1, ('blockchain', 'digital'): 1, ('digital', 'innovation'): 1, ('innovation', 'event'): 1, ('event', 'promoting'): 1, ('promoting', 'cryptocurrency'): 1, ('cryptocurrency', 'ta'): 1, ('ta', 'qali'): 1, ('qali', 'char'): 1, ('photo', 'silhouette'): 1, ('silhouette', 'mobile'): 1, ('mobile', 'device'): 1, ('device', 'user'): 1, ('user', 'seen'): 1, ('seen', 'next'): 1, ('next', 'screen'): 1, ('screen', 'projection'): 1, ('projection', 'binary'): 1, ('binary', 'code'): 1, ('code', 'seen'): 1, ('seen', 'picture'): 1, ('picture', 'illustration'): 1, ('illustration', 'taken'): 1, ('taken', 'march'): 1, ('march', 'reutersdado'): 1, ('reutersdado', 'ruvicillust'): 1, ('ruvicillust', 'char'): 1, ('char', 'least'): 1, ('least', 'year'): 1, ('year', 'hacker'): 1, ('hacker', 'passing'): 1, ('passing', 'around'): 1, ('around', 'trying'): 1, ('trying', 'break'): 1, ('break', 'bitcoin'): 1, ('bitcoin', 'wallet'): 1, ('wallet', 'potentially'): 1, ('potentially', 'hold'): 1, ('hold', 'around'): 1, ('around', 'million'): 1, ('million', 'btc'): 1, ('btc', 'would'): 1, ('would', 'wallet'): 1, ('wallet', 'seventh'): 1, ('seventh', 'hi'): 1, ('hi', 'char'): 1, ('reuters', 'us'): 3, ('government', 'sought'): 3, ('sought', 'thursday'): 3, ('thursday', 'seize'): 3, ('seize', 'cryptocurrency'): 3, ('cryptocurrency', 'account'): 3, ('account', 'said'): 3, ('said', 'used'): 3, ('used', 'north'): 3, ('north', 'korean'): 3, ('korean', 'hacker'): 3, ('hacker', 'stole'): 3, ('stole', 'million'): 3, ('million', 'dollar'): 3, ('dollar', 'cryptocurrency'): 3, ('cryptocurrency', 'two'): 3, ('two', 'virtual'): 3, ('virtual', 'exch'): 3, ('exch', 'char'): 3, ('char', 'washington'): 1, ('washington', 'reuters'): 1, ('reuters', 'former'): 1, ('former', 'chief'): 3, ('chief', 'security'): 2, ('security', 'officer'): 2, ('officer', 'uber'): 1, ('uber', 'technologies'): 1, ('technologies', 'wa'): 1, ('wa', 'criminally'): 1, ('criminally', 'charged'): 1, ('charged', 'thursday'): 1, ('thursday', 'trying'): 1, ('trying', 'cover'): 2, ('cover', 'hacking'): 1, ('hacking', 'exposed'): 1, ('exposed', 'personal'): 1, ('personal', 'information'): 1, ('information', 'mi'): 1, ('mi', 'char'): 1, ('char', 'despite'): 1, ('despite', 'popularity'): 1, ('popularity', 'among'): 1, ('among', 'drug'): 1, ('drug', 'dealer'): 1, ('dealer', 'dark'): 1, ('dark', 'web'): 2, ('web', 'hacker'): 1, ('hacker', 'demanding'): 1, ('demanding', 'hefty'): 1, ('hefty', 'ransom'): 1, ('ransom', 'unlock'): 1, ('unlock', 'victim'): 1, ('victim', 'computer'): 1, ('computer', 'bitcoin'): 1, ('bitcoin', 'ha'): 5, ('ha', 'never'): 1, ('never', 'hard'): 1, ('hard', 'trace'): 1, ('trace', 'fed'): 1, ('fed', 'cop'): 1, ('cop', 'chasing'): 1, ('chasing', 'sup'): 1, ('sup', 'char'): 1, ('char', 'sjoerd'): 1, ('sjoerd', 'knibbeler'): 1, ('knibbeler', 'made'): 1, ('made', 'image'): 1, ('image', 'correspondent'): 1, ('correspondent', 'rest'): 1, ('rest', 'image'): 1, ('image', 'piece'): 1, ('piece', 'series'): 1, ('series', 'current'): 1, ('current', 'studies'): 1, ('studies', 'read'): 1, ('read', 'end'): 1, ('end', 'article'): 1, ('article', 'char'): 1, ('char', 'federal'): 1, ('federal', 'authority'): 1, ('authority', 'homed'): 1, ('homed', 'yearold'): 1, ('yearold', 'massachusetts'): 1, ('massachusetts', 'allegedly'): 1, ('allegedly', 'played'): 1, ('played', 'significant'): 1, ('significant', 'role'): 1, ('role', 'july'): 1, ('july', 'twitter'): 1, ('twitter', 'hackback'): 1, ('hackback', 'july'): 1, ('july', 'authority'): 1, ('authority', 'arrested'): 1, ('arrested', 'yearold'): 1, ('yearold', 'graham'): 1, ('graham', 'clark'): 1, ('clark', 'char'): 1, ('char', 'sept'): 1, ('reuters', 'every'): 1, ('every', 'week'): 1, ('week', 'reuters'): 1, ('reuters', 'journalist'): 1, ('journalist', 'produce'): 1, ('produce', 'score'): 1, ('score', 'multimedia'): 1, ('multimedia', 'feature'): 1, ('feature', 'humaninterest'): 1, ('humaninterest', 'story'): 1, ('story', 'around'): 1, ('around', 'world'): 1, ('world', 'engaging'): 1, ('engaging', 'story'): 1, ('story', 'selected'): 1, ('selected', 'editor'): 1, ('editor', 'char'): 1, ('char', 'addition'): 1, ('addition', 'obstruction'): 1, ('obstruction', 'justice'): 2, ('justice', 'prosecutor'): 1, ('prosecutor', 'charged'): 1, ('charged', 'sullivan'): 1, ('sullivan', 'failing'): 1, ('failing', 'share'): 1, ('share', 'knowledge'): 1, ('knowledge', 'felony'): 1, ('felony', 'total'): 1, ('total', 'face'): 1, ('face', 'eight'): 1, ('eight', 'year'): 1, ('year', 'prison'): 2, ('prison', 'convicted'): 1, ('convicted', 'chargeswe'): 1, ('chargeswe', 'exp'): 1, ('exp', 'char'): 1, ('char', 'isolationsite'): 5, ('isolationsite', 'doe'): 5, ('doe', 'one'): 5, ('one', 'thing'): 5, ('thing', 'visit'): 5, ('visit', 'urls'): 5, ('urls', 'want'): 5, ('want', 'check'): 5, ('check', 'dont'): 5, ('dont', 'trust'): 5, ('trust', 'show'): 5, ('show', 'come'): 5, ('come', 'convenient'): 5, ('convenient', 'wrapper'): 5, ('wrapper', 'around'): 5, ('around', 'curl'): 5, ('curl', 'commandline'): 5, ('commandline', 'tool'): 5, ('tool', 'g'): 5, ('g', 'char'): 6, ('char', 'jeff'): 1, ('jeff', 'royder'): 1, ('royder', 'sr'): 1, ('sr', 'acct'): 1, ('acct', 'mgr'): 1, ('mgr', 'michael'): 1, ('michael', 'scott'): 1, ('scott', 'character'): 1, ('character', 'funny'): 1, ('funny', 'short'): 1, ('short', 'tooreal'): 1, ('tooreal', 'series'): 1, ('series', 'called'): 1, ('called', 'join'): 1, ('join', 'meeting'): 1, ('meeting', 'group'): 1, ('group', 'employee'): 1, ('employee', 'zoom'): 1, ('zoom', 'meeting'): 1, ('meeting', 'five'): 1, ('five', 'episode'): 1, ('episode', 'far'): 1, ('far', 'char'): 2, ('char', 'wee'): 1, ('wee', 'hour'): 1, ('hour', 'morning'): 1, ('morning', 'bunch'): 1, ('bunch', 'attacker'): 1, ('attacker', 'identifying'): 1, ('identifying', 'john'): 1, ('john', 'wick'): 1, ('wick', 'took'): 1, ('took', 'overa'): 1, ('overa', 'twitter'): 1, ('twitter', 'accountlinked'): 1, ('accountlinked', 'indian'): 1, ('indian', 'prime'): 1, ('prime', 'minister'): 1, ('minister', 'narendra'): 1, ('narendra', 'modis'): 1, ('modis', 'website'): 1, ('website', 'account'): 1, ('account', 'char'): 1, ('char', 'yet'): 1, ('yet', 'another'): 1, ('another', 'individual'): 1, ('individual', 'associated'): 1, ('associated', 'notorious'): 1, ('notorious', 'dark'): 1, ('web', 'marketplace'): 1, ('marketplace', 'alphabay'): 1, ('alphabay', 'going'): 1, ('going', 'jailbryan'): 1, ('jailbryan', 'connor'): 1, ('connor', 'herrell'): 1, ('herrell', 'served'): 1, ('served', 'moderatorhas'): 1, ('moderatorhas', 'sentenced'): 1, ('sentenced', 'year'): 1, ('prison', 'us'): 1, ('us', 'depa'): 1, ('depa', 'char'): 1, ('char', 'million'): 1, ('million', 'blockchain'): 1, ('blockchain', 'startup'): 1, ('startup', 'brd'): 1, ('brd', 'rolled'): 1, ('rolled', 'cryptocurrency'): 1, ('cryptocurrency', 'tool'): 1, ('tool', 'partnership'): 1, ('partnership', 'used'): 1, ('used', 'deloitte'): 1, ('deloitte', 'kpmg'): 1, ('kpmg', 'fidelity'): 1, ('fidelity', 'part'): 1, ('part', 'mission'): 1, ('mission', 'make'): 1, ('make', 'cryptocurrency'): 1, ('cryptocurrency', 'accessible'): 1, ('accessible', 'milli'): 1, ('milli', 'char'): 1, ('char', 'subscribe'): 1, ('subscribe', 'biweekly'): 1, ('biweekly', 'newsletter'): 2, ('newsletter', 'herewelcome'): 1, ('herewelcome', 'latest'): 1, ('latest', 'edition'): 1, ('edition', 'pardon'): 1, ('pardon', 'intrusion'): 1, ('intrusion', 'tnws'): 1, ('tnws', 'biweekly'): 1, ('newsletter', 'explore'): 1, ('explore', 'wild'): 1, ('wild', 'world'): 1, ('world', 'securityransomware'): 1, ('securityransomware', 'quickly'): 1, ('quickly', 'char'): 1, ('char', 'london'): 1, ('london', 'reuters'): 1, ('reuters', 'sound'): 1, ('sound', 'like'): 1, ('like', 'surefire'): 1, ('surefire', 'bet'): 1, ('bet', 'lend'): 1, ('lend', 'money'): 1, ('money', 'borrower'): 1, ('borrower', 'put'): 1, ('put', 'collateral'): 1, ('collateral', 'exceeds'): 1, ('exceeds', 'size'): 1, ('size', 'loan'): 1, ('loan', 'earn'): 1, ('earn', 'interest'): 1, ('interest', 'could'): 1, ('could', 'possibly'): 1, ('possibly', 'g'): 1, ('char', 'nvidia'): 1, ('nvidia', 'announced'): 1, ('announced', 'sunday'): 1, ('sunday', 'evening'): 1, ('evening', 'ha'): 1, ('ha', 'reached'): 1, ('reached', 'agreement'): 1, ('agreement', 'acquire'): 1, ('acquire', 'arm'): 1, ('arm', 'limited'): 1, ('limited', 'softbank'): 1, ('softbank', 'cool'): 1, ('cool', 'billionin'): 1, ('billionin', 'age'): 1, ('age', 'headline'): 1, ('headline', 'use'): 1, ('use', 'bword'): 1, ('bword', 'place'): 1, ('place', 'nine'): 1, ('nine', 'zero'): 1, ('zero', 'char'): 1, ('char', 'ubers'): 1, ('ubers', 'former'): 1, ('chief', 'securty'): 1, ('securty', 'officer'): 1, ('officer', 'paid'): 1, ('paid', 'two'): 1, ('two', 'hacker'): 1, ('hacker', 'bitcoin'): 1, ('bitcoin', 'bug'): 1, ('bug', 'bounty'): 1, ('bounty', 'reward'): 1, ('reward', 'breached'): 1, ('breached', 'company'): 1, ('company', 'databasesangela'): 1, ('databasesangela', 'langcnetthe'): 1, ('langcnetthe', 'department'): 1, ('department', 'justice'): 1, ('justice', 'ha'): 1, ('ha', 'indicted'): 1, ('indicted', 'char'): 1, ('char', 'hackers'): 1, ('hackers', 'breaking'): 1, ('breaking', 'account'): 1, ('account', 'massively'): 1, ('massively', 'popular'): 1, ('popular', 'online'): 1, ('online', 'game'): 1, ('game', 'call'): 1, ('call', 'duty'): 1, ('duty', 'warzone'): 1, ('warzone', 'multiple'): 1, ('multiple', 'victim'): 1, ('victim', 'complain'): 1, ('complain', 'activision'): 1, ('activision', 'publisher'): 1, ('publisher', 'behind'): 1, ('behind', 'game'): 1, ('game', 'slow'): 1, ('slow', 'unresponsive'): 1, ('unresponsive', 'char'): 1, ('char', 'elon'): 1, ('musk', 'confirmed'): 1, ('confirmed', 'twitter'): 1, ('twitter', 'thursday'): 1, ('thursday', 'tesla'): 1, ('tesla', 'nevada'): 1, ('nevada', 'factory'): 1, ('factory', 'wa'): 1, ('wa', 'target'): 1, ('target', 'alleged'): 1, ('alleged', 'attempted'): 1, ('attempted', 'cyberattack'): 1, ('cyberattack', 'russian'): 1, ('national', 'recent'): 1, ('recent', 'weeksa'): 1, ('weeksa', 'russian'): 1, ('russian', 'man'): 1, ('man', 'wasarrested'): 1, ('wasarrested', 'accuse'): 1, ('accuse', 'char'): 1, ('char', 'kid'): 1, ('kid', 'love'): 1, ('love', 'laptop'): 2, ('laptop', 'especially'): 1, ('especially', 'love'): 1, ('laptop', 'play'): 1, ('play', 'minecraft'): 1, ('minecraft', 'let'): 1, ('let', 'watch'): 1, ('watch', 'youtube'): 1, ('youtube', 'hour'): 1, ('hour', 'time'): 1, ('time', 'wondered'): 1, ('wondered', 'would'): 1, ('would', 'like'): 1, ('like', 'laptop'): 1, ('laptop', 'feature'): 1, ('feature', 'foursegment'): 1, ('foursegment', 'led'): 1, ('led', 'displ'): 1, ('displ', 'char'): 1, ('char', 'julija'): 1, ('julija', 'adlesic'): 1, ('adlesic', 'kept'): 1, ('kept', 'left'): 1, ('left', 'hand'): 1, ('hand', 'covered'): 1, ('covered', 'court'): 1, ('court', 'sky'): 1, ('sky', 'newsullia'): 1, ('newsullia', 'slovenian'): 1, ('slovenian', 'woman'): 1, ('woman', 'ha'): 1, ('ha', 'sentenced'): 1, ('sentenced', 'two'): 1, ('two', 'year'): 1, ('year', 'jail'): 1, ('jail', 'found'): 1, ('found', 'guilty'): 1, ('guilty', 'attempted'): 1, ('attempted', 'insurance'): 1, ('insurance', 'fraudlilijulija'): 1, ('fraudlilijulija', 'char'): 1, ('char', 'turns'): 1, ('turns', 'plugging'): 1, ('plugging', 'bunch'): 1, ('bunch', 'computer'): 1, ('computer', 'electrical'): 1, ('electrical', 'grid'): 1, ('grid', 'nothing'): 1, ('nothing', 'draw'): 1, ('draw', 'current'): 1, ('current', 'hash'): 1, ('hash', 'algorithm'): 1, ('algorithm', 'ha'): 1, ('ha', 'negative'): 1, ('negative', 'environmental'): 1, ('environmental', 'impact'): 1, ('impact', 'recent'): 1, ('recent', 'study'): 1, ('study', 'suggest'): 1, ('suggest', 'char'): 1, ('char', 'adafruit'): 1, ('adafruit', 'ha'): 1, ('ha', 'paid'): 1, ('paid', 'day'): 1, ('day', 'voting'): 1, ('voting', 'team'): 1, ('team', 'year'): 1, ('year', 'need'): 1, ('need', 'help'): 1, ('help', 'getting'): 1, ('getting', 'going'): 1, ('going', 'organization'): 1, ('organization', 'let'): 1, ('let', 'u'): 1, ('u', 'know'): 1, ('know', 'share'): 1, ('share', 'well'): 1, ('well', 'good'): 1, ('good', 'resu'): 1, ('resu', 'char'): 1, ('char', 'get'): 2, ('get', 'forbes'): 2, ('forbes', 'top'): 2, ('top', 'crypto'): 2, ('crypto', 'blockchain'): 2, ('blockchain', 'storiesdelivered'): 2, ('storiesdelivered', 'inboxevery'): 2, ('inboxevery', 'week'): 2, ('week', 'latest'): 2, ('latest', 'news'): 2, ('news', 'bitcoin'): 2, ('bitcoin', 'major'): 2, ('major', 'cryptocurrencies'): 2, ('cryptocurrencies', 'enterprise'): 2, ('enterprise', 'blockchain'): 2, ('blockchain', 'adoptiongettycrypto'): 1, ('adoptiongettycrypto', 'market'): 1, ('market', 'char'): 1, ('char', 'indians'): 1, ('indians', 'clear'): 1, ('clear', 'favourite'): 1, ('favourite', 'come'): 1, ('come', 'cryptocurrencies'): 1, ('cryptocurrencies', 'world'): 1, ('world', 'largest'): 1, ('largest', 'virtual'): 1, ('virtual', 'currency'): 1, ('currency', 'market'): 1, ('market', 'capitalisationbitcoinis'): 1, ('capitalisationbitcoinis', 'traded'): 1, ('traded', 'cryptocurrency'): 1, ('cryptocurrency', 'indiasince'): 1, ('indiasince', 'march'): 1, ('march', 'char'): 2, ('char', 'woad'): 1, ('woad', 'plant'): 1, ('plant', 'blue'): 1, ('blue', 'dye'): 1, ('dye', 'taken'): 1, ('taken', 'thereof'): 1, ('thereof', 'popularly'): 1, ('popularly', 'associated'): 1, ('associated', 'ironage'): 1, ('ironage', 'britons'): 1, ('britons', 'replaced'): 1, ('replaced', 'superior'): 1, ('superior', 'indigo'): 1, ('indigo', 'plant'): 1, ('plant', 'long'): 1, ('long', 'modern'): 1, ('modern', 'age'): 1, ('age', 'ha'): 1, ('ha', 'fan'): 1, ('fan', 'even'): 1, ('even', 'char'): 1, ('char', 'bitcoin'): 9, ('bitcoin', 'along'): 1, ('along', 'wider'): 1, ('wider', 'cryptocurrency'): 1, ('cryptocurrency', 'market'): 1, ('market', 'ha'): 1, ('ha', 'come'): 1, ('come', 'life'): 1, ('life', 'last'): 1, ('last', 'monthsthe'): 1, ('monthsthe', 'bitcoin'): 1, ('bitcoin', 'price'): 6, ('price', 'crashing'): 2, ('crashing', 'per'): 1, ('per', 'bitcoin'): 4, ('bitcoin', 'broad'): 1, ('broad', 'march'): 1, ('march', 'coronavirus'): 1, ('coronavirus', 'crash'): 1, ('crash', 'ha'): 1, ('ha', 'char'): 1, ('blockchain', 'adoptionthe'): 1, ('adoptionthe', 'winklevoss'): 1, ('winklevoss', 'twin'): 1, ('twin', 'char'): 1, ('char', 'file'): 1, ('file', 'photo'): 1, ('photo', 'man'): 1, ('man', 'type'): 1, ('type', 'computer'): 1, ('computer', 'keyboard'): 1, ('keyboard', 'illustration'): 1, ('illustration', 'picture'): 1, ('picture', 'february'): 1, ('february', 'reuterskacper'): 1, ('reuterskacper', 'pempelillustrationfile'): 1, ('pempelillustrationfile', 'photofile'): 1, ('photofile', 'photo'): 1, ('photo', 'kacper'): 1, ('kacper', 'pempelreutersprosecutors'): 1, ('pempelreutersprosecutors', 'germany'): 1, ('germany', 'char'): 1, ('char', 'uber'): 1, ('uber', 'logo'): 1, ('logo', 'car'): 1, ('car', 'windowubers'): 1, ('windowubers', 'former'): 1, ('officer', 'joseph'): 1, ('joseph', 'sullivan'): 1, ('sullivan', 'ha'): 1, ('ha', 'charged'): 1, ('charged', 'obstruction'): 1, ('justice', 'usthe'): 1, ('usthe', 'yearold'): 1, ('yearold', 'accused'): 1, ('accused', 'trying'): 1, ('cover', 'data'): 1, ('data', 'breach'): 1, ('breach', 'char'): 1, ('char', 'weekend'): 1, ('weekend', 'pour'): 1, ('pour', 'mug'): 1, ('mug', 'french'): 1, ('french', 'roast'): 1, ('roast', 'coffee'): 1, ('coffee', 'grab'): 1, ('grab', 'seat'): 1, ('seat', 'swinging'): 1, ('swinging', 'chair'): 1, ('chair', 'get'): 1, ('get', 'ready'): 1, ('ready', 'longer'): 1, ('longer', 'form'): 1, ('form', 'weekend'): 1, ('weekend', 'read'): 1, ('read', 'inside'): 1, ('inside', 'story'): 1, ('story', 'robinhoods'): 1, ('robinhoods', 'billionaire'): 1, ('billionaire', 'found'): 1, ('found', 'char'): 1, ('ha', 'declined'): 1, ('declined', 'sharply'): 1, ('sharply', 'week'): 1, ('week', 'losing'): 1, ('losing', 'hour'): 1, ('hour', 'causing'): 1, ('causing', 'trader'): 1, ('trader', 'nervously'): 1, ('nervously', 'eye'): 1, ('eye', 'psychological'): 1, ('psychological', 'per'): 1, ('bitcoin', 'levelthe'): 1, ('levelthe', 'bitcoin'): 1, ('price', 'lost'): 1, ('lost', 'matter'): 1, ('matter', 'char'): 1, ('ha', 'struggled'): 1, ('struggled', 'august'): 1, ('august', 'leaping'): 1, ('leaping', 'higher'): 1, ('higher', 'end'): 1, ('end', 'july'): 1, ('july', 'bitcoin'): 1, ('price', 'ha'): 1, ('ha', 'repeatedly'): 1, ('repeatedly', 'tried'): 1, ('tried', 'failed'): 1, ('failed', 'gain'): 1, ('gain', 'footing'): 1, ('footing', 'per'): 1, ('bitcoin', 'currently'): 1, ('currently', 'stuck'): 1, ('stuck', 'tra'): 1, ('tra', 'char'): 1, ('char', 'last'): 1, ('last', 'month'): 1, ('month', 'showed'): 1, ('showed', 'bitcoin'): 1, ('bitcoin', 'broke'): 1, ('broke', 'key'): 1, ('key', 'resistance'): 1, ('resistance', 'zone'): 1, ('zone', 'wa'): 1, ('wa', 'sign'): 1, ('sign', 'technical'): 1, ('technical', 'strength'): 1, ('strength', 'since'): 1, ('since', 'bitcoin'): 1, ('ha', 'held'): 1, ('held', 'onto'): 1, ('onto', 'gain'): 1, ('gain', 'ha'): 1, ('ha', 'consolidatin'): 1, ('consolidatin', 'char'): 1, ('bitcoin', 'trader'): 2, ('trader', 'investor'): 1, ('investor', 'seen'): 1, ('seen', 'return'): 1, ('return', 'volatility'): 1, ('volatility', 'month'): 1, ('month', 'bitcoin'): 1, ('price', 'suddenly'): 1, ('suddenly', 'dropping'): 1, ('dropping', 'early'): 1, ('early', 'september'): 1, ('september', 'bitcoin'): 1, ('price', 'broken'): 1, ('broken', 'per'): 1, ('bitcoin', 'th'): 1, ('bitcoin', 'mining'): 2, ('mining', 'big'): 1, ('big', 'business'): 1, ('business', 'ten'): 1, ('ten', 'year'): 1, ('year', 'bitcoin'): 1, ('mining', 'bitcoin'): 1, ('bitcoin', 'token'): 1, ('token', 'rewarded'): 1, ('rewarded', 'maintain'): 1, ('maintain', 'bitcoin'): 1, ('bitcoin', 'network'): 1, ('network', 'ha'): 1, ('ha', 'morphed'): 1, ('morphed', 'bedroombased'): 1, ('bedroombased', 'moneymaking'): 1, ('moneymaking', 'hobby'): 1, ('hobby', 'char'): 1, ('char', 'ethereum'): 1, ('ethereum', 'long'): 1, ('long', 'played'): 1, ('played', 'second'): 1, ('second', 'fiddle'): 1, ('fiddle', 'number'): 1, ('number', 'one'): 1, ('one', 'cryptocurrency'): 1, ('cryptocurrency', 'bitcoin'): 1, ('bitcoin', 'stepping'): 1, ('stepping', 'limelightthe'): 1, ('limelightthe', 'ethereum'): 1, ('ethereum', 'price'): 1, ('price', 'climbing'): 1, ('climbing', 'last'): 1, ('last', 'hour'): 1, ('hour', 'trading'): 1, ('trading', 'period'): 1, ('period', 'char'): 1, ('char', 'back'): 1, ('back', 'work'): 1, ('work', 'morning'): 1, ('morning', 'train'): 1, ('train', 'wfh'): 1, ('wfh', 'readsbull'): 1, ('readsbull', 'case'): 1, ('case', 'bear'): 1, ('bear', 'case'): 1, ('case', 'could'): 1, ('could', 'make'): 1, ('make', 'compelling'): 1, ('compelling', 'bull'): 1, ('bull', 'bear'): 1, ('bear', 'care'): 1, ('care', 'every'): 1, ('every', 'asset'): 1, ('asset', 'class'): 1, ('class', 'market'): 1, ('market', 'right'): 1, ('right', 'believe'): 1, ('believe', 'case'): 1, ('case', 'depends'): 1, ('depends', 'char'): 1, ('char', 'many'): 1, ('many', 'u'): 1, ('u', 'covid'): 1, ('ha', 'brought'): 1, ('brought', 'u'): 1, ('u', 'closer'): 1, ('closer', 'family'): 1, ('family', 'im'): 1, ('im', 'spending'): 1, ('spending', 'time'): 1, ('time', 'parent'): 1, ('parent', 'quiet'): 1, ('quiet', 'dinner'): 1, ('dinner', 'home'): 1, ('home', 'discussing'): 1, ('discussing', 'state'): 1, ('state', 'world'): 1, ('world', 'wa'): 1, ('wa', 'char'): 1, ('char', 'new'): 1, ('new', 'york'): 1, ('york', 'city'): 1, ('city', 'ny'): 1, ('ny', 'united'): 1, ('states', 'view'): 1, ('view', 'american'): 1, ('american', 'multinational'): 1, ('multinational', 'financial'): 1, ('financial', 'service'): 1, ('service', 'corporation'): 1, ('corporation', 'fidelity'): 1, ('fidelity', 'investments'): 2, ('investments', 'logo'): 1, ('logo', 'photo'): 1, ('photo', 'alex'): 1, ('alex', 'taisopa'): 1, ('taisopa', 'imageslightrocket'): 1, ('imageslightrocket', 'via'): 2, ('via', 'get'): 1, ('get', 'char'): 1, ('bitcoin', 'cryptocurrencies'): 1, ('cryptocurrencies', 'exploded'): 1, ('exploded', 'back'): 1, ('back', 'limelight'): 1, ('limelight', 'recent'): 1, ('recent', 'month'): 1, ('month', 'given'): 1, ('given', 'boost'): 1, ('boost', 'federal'): 1, ('federal', 'reserves'): 1, ('reserves', 'coronavirus'): 1, ('coronavirus', 'pandemic'): 1, ('pandemic', 'response'): 1, ('response', 'bitcoin'): 1, ('crashing', 'march'): 1, ('bitcoin', 'despite'): 1, ('despite', 'growing'): 1, ('growing', 'mainstream'): 1, ('mainstream', 'popularity'): 1, ('popularity', 'favourite'): 1, ('favourite', 'tool'): 1, ('tool', 'cyber'): 1, ('cyber', 'criminal'): 1, ('criminal', 'one'): 1, ('one', 'ransomware'): 1, ('ransomware', 'variant'): 1, ('variant', 'known'): 1, ('known', 'ryuk'): 1, ('ryuk', 'thought'): 1, ('thought', 'stolen'): 1, ('stolen', 'million'): 1, ('million', 'since'): 1, ('since', 'wa'): 1, ('wa', 'created'): 1, ('created', 'char'): 1, ('trader', 'found'): 1, ('found', 'fresh'): 1, ('fresh', 'confidence'): 1, ('confidence', 'bitcoins'): 1, ('bitcoins', 'prospect'): 1, ('prospect', 'year'): 1, ('year', 'number'): 1, ('number', 'highprofile'): 1, ('highprofile', 'investor'): 1, ('investor', 'biggest'): 1, ('biggest', 'wall'): 1, ('wall', 'street'): 1, ('street', 'giant'): 1, ('giant', 'giving'): 1, ('giving', 'bitcoin'): 1, ('bitcoin', 'backing'): 1, ('backing', 'bi'): 1, ('bi', 'char'): 1, ('char', 'stimulus'): 1, ('stimulus', 'check'): 1, ('check', 'helped'): 1, ('helped', 'million'): 1, ('million', 'americans'): 1, ('americans', 'make'): 1, ('make', 'end'): 1, ('end', 'meet'): 1, ('meet', 'earlier'): 1, ('earlier', 'year'): 1, ('year', 'however'): 1, ('however', 'democrats'): 1, ('democrats', 'republicans'): 1, ('republicans', 'struggled'): 1, ('struggled', 'agree'): 1, ('agree', 'term'): 1, ('term', 'second'): 1, ('second', 'stimulus'): 1, ('stimulus', 'checkand'): 1, ('checkand', 'may'): 1, ('may', 'one'): 1, ('one', 'char'): 1, ('char', 'video'): 1, ('video', 'meeting'): 1, ('meeting', 'hassle'): 1, ('hassle', 'unmute'): 1, ('unmute', 'say'): 1, ('say', 'one'): 1, ('one', 'word'): 1, ('word', 'especially'): 1, ('especially', 'someone'): 1, ('someone', 'else'): 1, ('else', 'speaking'): 1, ('speaking', 'created'): 1, ('created', 'video'): 1, ('video', 'lens'): 1, ('lens', 'us'): 1, ('us', 'hand'): 1, ('hand', 'gesture'): 1, ('gesture', 'show'): 1, ('show', 'comicbook'): 1, ('comicbook', 'style'): 1, ('style', 'message'): 1, ('message', 'instead'): 1, ('instead', 'far'): 1, ('char', 'empire'): 1, ('empire', 'market'): 1, ('market', 'world'): 1, ('world', 'popular'): 1, ('popular', 'darknet'): 1, ('darknet', 'drug'): 1, ('drug', 'bazaar'): 1, ('bazaar', 'ha'): 1, ('ha', 'taken'): 1, ('taken', 'offline'): 1, ('offline', 'mysterious'): 1, ('mysterious', 'circumstance'): 1, ('circumstance', 'site'): 1, ('site', 'owner'): 1, ('owner', 'allegedly'): 1, ('allegedly', 'stolen'): 1, ('stolen', 'estimated'): 1, ('estimated', 'million'): 1, ('million', 'million'): 1, ('million', 'bitcoi'): 1, ('bitcoi', 'char'): 1, ('char', 'happenedshares'): 1, ('happenedshares', 'fintech'): 1, ('fintech', 'company'): 1, ('company', 'squarenysesq'): 1, ('squarenysesq', 'august'): 1, ('august', 'according'): 1, ('according', 'data'): 1, ('data', 'provided'): 1, ('provided', 'bysampp'): 1, ('bysampp', 'global'): 1, ('global', 'market'): 1, ('market', 'intelligence'): 1, ('intelligence', 'investors'): 1, ('investors', 'loved'): 1, ('loved', 'company'): 1, ('company', 'result'): 1, ('result', 'secon'): 1, ('secon', 'char'): 1, ('char', 'applying'): 1, ('applying', 'mortgage'): 1, ('mortgage', 'might'): 1, ('might', 'one'): 1, ('one', 'hardest'): 1, ('hardest', 'thing'): 1, ('thing', 'buying'): 1, ('buying', 'home'): 1, ('home', 'take'): 1, ('take', 'longer'): 1, ('longer', 'say'): 1, ('say', 'applying'): 1, ('applying', 'credit'): 1, ('credit', 'card'): 1, ('card', 'lot'): 1, ('lot', 'expensive'): 1, ('expensive', 'homebuyers'): 1, ('homebuyers', 'thanks'): 1, ('thanks', 'processin'): 1, ('processin', 'char'): 1, ('char', 'cazes'): 1, ('cazes', 'case'): 1, ('case', 'wa'): 1, ('wa', 'dismissed'): 1, ('dismissed', 'died'): 1, ('died', 'cell'): 1, ('cell', 'thailand'): 1, ('thailand', 'suspected'): 1, ('suspected', 'suicide'): 1, ('suicide', 'meanwhile'): 1, ('meanwhile', 'herrell'): 1, ('herrell', 'pleaded'): 1, ('pleaded', 'guilty'): 1, ('guilty', 'conspiring'): 1, ('conspiring', 'engage'): 1, ('engage', 'racketeer'): 1, ('racketeer', 'influenced'): 1, ('influenced', 'corrupt'): 1, ('corrupt', 'organization'): 1, ('organization', 'jan'): 1, ('jan', 'char'): 1, ('char', 'gettyin'): 1, ('gettyin', 'article'): 1, ('article', 'trade'): 1, ('trade', 'decade'): 1, ('decade', 'betting'): 1, ('betting', 'bitcoin'): 1, ('bitcoin', 'argued'): 1, ('argued', 'investing'): 1, ('investing', 'bitcoin'): 1, ('bitcoin', 'winning'): 1, ('winning', 'strategy'): 1, ('strategy', 'recent'): 1, ('recent', 'macroeconomic'): 1, ('macroeconomic', 'condition'): 1, ('condition', 'support'): 1, ('support', 'argument'): 1, ('argument', 'char'): 1, ('ha', 'trading'): 1, ('trading', 'rangebound'): 1, ('rangebound', 'lately'): 1, ('lately', 'photo'): 1, ('photo', 'ina'): 2, ('ina', 'fassbender'): 1, ('fassbender', 'afp'): 1, ('afp', 'photo'): 1, ('ina', 'fassbenderafp'): 1, ('fassbenderafp', 'via'): 1, ('via', 'getty'): 3, ('getty', 'imagesafp'): 1, ('imagesafp', 'via'): 1, ('getty', 'imagesbitcoin'): 1, ('imagesbitcoin', 'price'): 1, ('price', 'trading'): 1, ('trading', 'mostly'): 1, ('mostly', 'betw'): 1, ('betw', 'char'): 1, ('char', 'poland'): 1, ('poland', 'photo'): 1, ('photo', 'illustration'): 2, ('illustration', 'ethereum'): 1, ('ethereum', 'logo'): 1, ('logo', 'seen'): 1, ('seen', 'displayed'): 1, ('displayed', 'smartphone'): 1, ('smartphone', 'photo'): 1, ('illustration', 'mateusz'): 1, ('mateusz', 'slodkowskisopa'): 1, ('slodkowskisopa', 'imageslightrocket'): 1, ('getty', 'imagessopa'): 1, ('imagessopa', 'imag'): 1, ('imag', 'char'): 1, ('char', 'abigail'): 1, ('abigail', 'johnson'): 1, ('johnson', 'chairman'): 1, ('chairman', 'chief'): 1, ('chief', 'executive'): 1, ('executive', 'officer'): 1, ('officer', 'fidelity'): 1, ('investments', 'wa'): 1, ('wa', 'among'): 1, ('among', 'first'): 1, ('first', 'executive'): 1, ('executive', 'traditional'): 1, ('traditional', 'investing'): 1, ('investing', 'firm'): 1, ('firm', 'publicly'): 1, ('publicly', 'express'): 1, ('express', 'interest'): 1, ('interest', 'bitcoin'): 1}\n"
     ]
    }
   ],
   "source": [
    "# Generate the Bitcoin N-grams where N=2\n",
    "\n",
    "bitcoin_article_tokens = [token for token in bitcoin_df['tokens']]\n",
    "\n",
    "bitcoin_words_tokenized = []\n",
    "\n",
    "for articles in bitcoin_article_tokens:\n",
    "    \n",
    "    for word in articles:\n",
    "        \n",
    "        bitcoin_words_tokenized.append(word)\n",
    "        \n",
    "    \n",
    "bitcoin_words_tokenized\n",
    "\n",
    "bigram_counts_bitcoin = Counter(ngrams(bitcoin_words_tokenized, n=2)) \n",
    "\n",
    "print(dict(bigram_counts_bitcoin))"
   ]
  },
  {
   "cell_type": "code",
   "execution_count": 17,
   "metadata": {},
   "outputs": [],
   "source": [
    "# Generate the Ethereum N-grams where N=2\n",
    "# YOUR CODE HERE!"
   ]
  },
  {
   "cell_type": "code",
   "execution_count": 18,
   "metadata": {},
   "outputs": [],
   "source": [
    "# Use the token_count function to generate the top 10 words from each coin\n",
    "def token_count(tokens, N=10):\n",
    "    \"\"\"Returns the top N tokens from the frequency count\"\"\"\n",
    "    return Counter(tokens).most_common(N)"
   ]
  },
  {
   "cell_type": "code",
   "execution_count": 19,
   "metadata": {},
   "outputs": [],
   "source": [
    "# Get the top 10 words for Bitcoin\n",
    "# YOUR CODE HERE!"
   ]
  },
  {
   "cell_type": "code",
   "execution_count": 20,
   "metadata": {},
   "outputs": [],
   "source": [
    "# Get the top 10 words for Ethereum\n",
    "# YOUR CODE HERE!"
   ]
  },
  {
   "cell_type": "markdown",
   "metadata": {},
   "source": [
    "# Word Clouds\n",
    "\n",
    "In this section, you will generate word clouds for each coin to summarize the news for each coin"
   ]
  },
  {
   "cell_type": "code",
   "execution_count": 21,
   "metadata": {},
   "outputs": [],
   "source": [
    "from wordcloud import WordCloud\n",
    "import matplotlib.pyplot as plt\n",
    "plt.style.use('seaborn-whitegrid')\n",
    "import matplotlib as mpl\n",
    "mpl.rcParams['figure.figsize'] = [20.0, 10.0]"
   ]
  },
  {
   "cell_type": "code",
   "execution_count": 22,
   "metadata": {},
   "outputs": [],
   "source": [
    "# Generate the Bitcoin word cloud\n",
    "# YOUR CODE HERE!"
   ]
  },
  {
   "cell_type": "code",
   "execution_count": 23,
   "metadata": {},
   "outputs": [],
   "source": [
    "# Generate the Ethereum word cloud\n",
    "# YOUR CODE HERE!"
   ]
  },
  {
   "cell_type": "markdown",
   "metadata": {},
   "source": [
    "# Named Entity Recognition\n",
    "\n",
    "In this section, you will build a named entity recognition model for both coins and visualize the tags using SpaCy."
   ]
  },
  {
   "cell_type": "code",
   "execution_count": 24,
   "metadata": {},
   "outputs": [],
   "source": [
    "import spacy\n",
    "from spacy import displacy"
   ]
  },
  {
   "cell_type": "code",
   "execution_count": 25,
   "metadata": {},
   "outputs": [],
   "source": [
    "# Optional - download a language model for SpaCy\n",
    "# !python -m spacy download en_core_web_sm"
   ]
  },
  {
   "cell_type": "code",
   "execution_count": 26,
   "metadata": {},
   "outputs": [],
   "source": [
    "# Load the spaCy model\n",
    "nlp = spacy.load('en_core_web_sm')"
   ]
  },
  {
   "cell_type": "markdown",
   "metadata": {},
   "source": [
    "## Bitcoin NER"
   ]
  },
  {
   "cell_type": "code",
   "execution_count": 27,
   "metadata": {},
   "outputs": [],
   "source": [
    "# Concatenate all of the bitcoin text together\n",
    "# YOUR CODE HERE!"
   ]
  },
  {
   "cell_type": "code",
   "execution_count": 28,
   "metadata": {},
   "outputs": [],
   "source": [
    "# Run the NER processor on all of the text\n",
    "# YOUR CODE HERE!\n",
    "\n",
    "# Add a title to the document\n",
    "# YOUR CODE HERE!"
   ]
  },
  {
   "cell_type": "code",
   "execution_count": 29,
   "metadata": {},
   "outputs": [],
   "source": [
    "# Render the visualization\n",
    "# YOUR CODE HERE!"
   ]
  },
  {
   "cell_type": "code",
   "execution_count": 30,
   "metadata": {},
   "outputs": [],
   "source": [
    "# List all Entities\n",
    "# YOUR CODE HERE!"
   ]
  },
  {
   "cell_type": "markdown",
   "metadata": {},
   "source": [
    "---"
   ]
  },
  {
   "cell_type": "markdown",
   "metadata": {},
   "source": [
    "## Ethereum NER"
   ]
  },
  {
   "cell_type": "code",
   "execution_count": 31,
   "metadata": {},
   "outputs": [],
   "source": [
    "# Concatenate all of the bitcoin text together\n",
    "# YOUR CODE HERE!"
   ]
  },
  {
   "cell_type": "code",
   "execution_count": 32,
   "metadata": {},
   "outputs": [],
   "source": [
    "# Run the NER processor on all of the text\n",
    "# YOUR CODE HERE!\n",
    "\n",
    "# Add a title to the document\n",
    "# YOUR CODE HERE!"
   ]
  },
  {
   "cell_type": "code",
   "execution_count": 33,
   "metadata": {},
   "outputs": [],
   "source": [
    "# Render the visualization\n",
    "# YOUR CODE HERE!"
   ]
  },
  {
   "cell_type": "code",
   "execution_count": 34,
   "metadata": {},
   "outputs": [],
   "source": [
    "# List all Entities\n",
    "# YOUR CODE HERE!"
   ]
  }
 ],
 "metadata": {
  "file_extension": ".py",
  "kernelspec": {
   "display_name": "Python 3",
   "language": "python",
   "name": "python3"
  },
  "language_info": {
   "codemirror_mode": {
    "name": "ipython",
    "version": 3
   },
   "file_extension": ".py",
   "mimetype": "text/x-python",
   "name": "python",
   "nbconvert_exporter": "python",
   "pygments_lexer": "ipython3",
   "version": "3.7.7"
  },
  "mimetype": "text/x-python",
  "name": "python",
  "npconvert_exporter": "python",
  "pygments_lexer": "ipython3",
  "version": 3
 },
 "nbformat": 4,
 "nbformat_minor": 4
}
